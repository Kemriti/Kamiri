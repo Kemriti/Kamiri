{
 "cells": [
  {
   "cell_type": "markdown",
   "id": "7d5a94d8",
   "metadata": {},
   "source": [
    "# Machine learning / Random Forest "
   ]
  },
  {
   "cell_type": "code",
   "execution_count": 2,
   "id": "381a5a82",
   "metadata": {},
   "outputs": [],
   "source": [
    "from sklearn.ensemble import RandomForestRegressor\n",
    "from sklearn.ensemble import RandomForestClassifier\n",
    "from sklearn.metrics import confusion_matrix, accuracy_score, recall_score, precision_score\n",
    "from sklearn.model_selection import train_test_split\n",
    "from sklearn.preprocessing import StandardScaler\n",
    "from sklearn.metrics import accuracy_score\n"
   ]
  },
  {
   "cell_type": "code",
   "execution_count": 3,
   "id": "f411d3bd",
   "metadata": {},
   "outputs": [],
   "source": [
    "# 1/ Diviser la data en 2 parties : test et train "
   ]
  },
  {
   "cell_type": "code",
   "execution_count": 4,
   "id": "2a2dc93c",
   "metadata": {},
   "outputs": [],
   "source": [
    "# si on a une série temporelle alors on divise en ordre croissant \n",
    "\n",
    "#train = df[df.index.year <= 2014]   Rq : faut passer la colonne date en pd.to_datetime avant\n",
    "#test = df[df.index.year >= 2015]"
   ]
  },
  {
   "cell_type": "code",
   "execution_count": 6,
   "id": "0ad9453c",
   "metadata": {},
   "outputs": [],
   "source": [
    "# df.index = pd.to_datetime(df.index, format='%d/%m/%Y', errors='coerce')"
   ]
  },
  {
   "cell_type": "code",
   "execution_count": 7,
   "id": "1ad9152c",
   "metadata": {},
   "outputs": [],
   "source": [
    "#si on veut une division aléatoire alors \n",
    "\n",
    "#X_train, X_test, y_train, y_test = train_test_split(X, y, test_size=0.2, random_state=42) splitter d'une manière aléatoire\n"
   ]
  },
  {
   "cell_type": "code",
   "execution_count": 8,
   "id": "6c869b27",
   "metadata": {},
   "outputs": [],
   "source": [
    "# 2/ kharej el variable eli nheb nepredectiha m tableaux test w train \n",
    "\n",
    "#X_train = train.drop(\"variable\", axis=1)\n",
    "#y_train = train['variable']\n",
    "#X_test = test.drop('variable', axis = 1) # Selecting Predictor Variables\n",
    "#y_test = test['variable']"
   ]
  },
  {
   "cell_type": "code",
   "execution_count": 9,
   "id": "b327e46b",
   "metadata": {},
   "outputs": [],
   "source": [
    "# 3/  Créez le modèle Random Forest\n",
    "\n",
    "# rf_model = RandomForestClassifier(n_estimators=100, random_state=42)  # Vous pouvez ajuster les hyperparamètres\n",
    "\n",
    "#bich nchouf l parameters taa l model \n",
    "# params = rf_model.get_params()\n",
    "# params"
   ]
  },
  {
   "cell_type": "code",
   "execution_count": 10,
   "id": "c7e35f47",
   "metadata": {},
   "outputs": [],
   "source": [
    "# 4/ traini l model \n",
    "\n",
    "# rf_model.fit(X_train, y_train)\n"
   ]
  },
  {
   "cell_type": "code",
   "execution_count": 11,
   "id": "5704b813",
   "metadata": {},
   "outputs": [],
   "source": [
    "# 5/ predicti les valeurs taa l y_test b X_test \n",
    "\n",
    "# y_pred = rf_model.predict(X_test)\n"
   ]
  },
  {
   "cell_type": "code",
   "execution_count": null,
   "id": "be3710bf",
   "metadata": {},
   "outputs": [],
   "source": [
    "# 6/ affichi l accuaracy taa l model : comparaison binet les valeurs elli predictehom l model w les valeurs taa y_test\n",
    "\n",
    "#y_pred = rf_model.predict(X_test)\n",
    "#accuracy = accuracy_score(y_test, y_pred)\n",
    "#print(f'Exactitude (Accuracy) : {accuracy:.2f}')\n",
    "\n"
   ]
  },
  {
   "cell_type": "code",
   "execution_count": 12,
   "id": "33719d0e",
   "metadata": {},
   "outputs": [],
   "source": [
    "# 7/ affichi l tableau taa lez valeurs prédit w les valeurs e shah \n",
    "\n",
    "#dfr=pd.DataFrame({'Actual':y_test, 'Predicted':y_pred})\n",
    "#dfr.reset_index(drop=True, inplace=True)\n",
    "#dfr\n"
   ]
  },
  {
   "cell_type": "code",
   "execution_count": 13,
   "id": "57f4f832",
   "metadata": {},
   "outputs": [],
   "source": [
    "# 8/ affichi l graph eli ywari l valeuret taa model pp l les valeurs e shah \n",
    "\n",
    "#import seaborn as sns \n",
    "#import matplotlib.pyplot as plt\n",
    "\n",
    "#ax = sns.distplot(dfr['Actual'], color='r', label = 'Actual Price', hist = False)\n",
    "#sns.distplot(dfr['Predicted'], color = 'g', label = 'Predicted Price', ax=ax, hist = False)"
   ]
  },
  {
   "cell_type": "markdown",
   "id": "e816c92e",
   "metadata": {},
   "source": [
    "# Finetunning un model "
   ]
  },
  {
   "cell_type": "code",
   "execution_count": 14,
   "id": "a01f9a77",
   "metadata": {},
   "outputs": [],
   "source": [
    "from sklearn.ensemble import RandomForestClassifier\n",
    "from sklearn.model_selection import GridSearchCV"
   ]
  },
  {
   "cell_type": "code",
   "execution_count": null,
   "id": "10dcbb02",
   "metadata": {},
   "outputs": [],
   "source": [
    "# consulter les parameters d un model\n",
    "\n",
    "# rf_model = RandomForestClassifier(n_estimators=100, random_state=42)  # Vous pouvez ajuster les hyperparamètres\n",
    "\n",
    "#bich nchouf l parameters taa l model \n",
    "# params = rf_model.get_params()\n",
    "# params"
   ]
  },
  {
   "cell_type": "code",
   "execution_count": null,
   "id": "1eac9020",
   "metadata": {},
   "outputs": [],
   "source": [
    "# 1/ chercher les meilleurs param pour la data \n",
    "\n",
    "#param_grid = {\n",
    "#    'n_estimators': [100, 200, 300],\n",
    "#    'max_depth': [None, 10, 20, 30],\n",
    "#    'min_samples_split': [2, 5, 10],\n",
    "#    'min_samples_leaf': [1, 2, 4]\n",
    "# }\n",
    "\n",
    "#grid_search = GridSearchCV(rf_model, param_grid, cv=5, scoring='accuracy', n_jobs=-1)\n",
    "#grid_search.fit(X_train, y_train)\n",
    "\n",
    "#print(\"Meilleurs hyperparamètres trouvés :\")\n",
    "#print(grid_search.best_params_)"
   ]
  },
  {
   "cell_type": "code",
   "execution_count": null,
   "id": "be6ad9c3",
   "metadata": {},
   "outputs": [],
   "source": [
    "# 2/  créer le model avec les nouveaux parameters \n",
    "\n",
    "# rf_model = RandomForestClassifier(n_estimators=100, random_state=42, max_depth=10, min_samples_split=10, min_samples_leaf=4)"
   ]
  },
  {
   "cell_type": "code",
   "execution_count": null,
   "id": "4ed14fc1",
   "metadata": {},
   "outputs": [],
   "source": [
    "# 3/ aawed raini l model \n",
    "\n",
    "# rf_model.fit(X_train, y_train)\n"
   ]
  },
  {
   "cell_type": "code",
   "execution_count": null,
   "id": "9f3f61ee",
   "metadata": {},
   "outputs": [],
   "source": [
    "# 4/ predicti l valeurs taa y-test\n",
    "\n",
    "# y_pred = rf_model.predict(X_test)\n",
    "\n",
    "# 5/ affichi l accuaracy \n",
    "\n",
    "#accuracy = accuracy_score(y_test, y_pred)\n",
    "#print(f'Exactitude (Accuracy) : {accuracy:.2f}')\n"
   ]
  },
  {
   "cell_type": "markdown",
   "id": "94215f47",
   "metadata": {},
   "source": [
    "# # logistic regression\n"
   ]
  },
  {
   "cell_type": "code",
   "execution_count": 15,
   "id": "633362ae",
   "metadata": {},
   "outputs": [],
   "source": [
    "from sklearn.tree import DecisionTreeRegressor\n",
    "from sklearn.metrics import confusion_matrix, accuracy_score, recall_score, precision_score\n",
    "from sklearn.model_selection import train_test_split\n",
    "from sklearn.preprocessing import StandardScaler\n",
    "from sklearn.metrics import accuracy_score"
   ]
  },
  {
   "cell_type": "code",
   "execution_count": null,
   "id": "118f65a4",
   "metadata": {},
   "outputs": [],
   "source": [
    "# 1/  créer le model \n",
    "#dtr = DecisionTreeRegressor()"
   ]
  },
  {
   "cell_type": "code",
   "execution_count": null,
   "id": "7e71a52b",
   "metadata": {},
   "outputs": [],
   "source": [
    "# 2/ hypertuning the model \n",
    "\n",
    "#from sklearn.model_selection import GridSearchCV\n",
    "\n",
    "# Defining parameters\n",
    "#parameters  = {'max_depth':[2,4,6,8],\n",
    "               'min_samples_split':[2,4,6,8],\n",
    "               'min_samples_leaf':[1,2,3,4],\n",
    "               'max_features':['auto','sqrt','log2'],\n",
    "               'random_state':[0,42]}\n",
    "\n",
    "# Creating GridSearchCV object\n",
    "#grid_search = GridSearchCV(dtr, parameters, cv=5, scoring='neg_mean_squared_error')\n",
    "\n",
    "# Fitting data to grid search object\n",
    "#grid_search.fit(x_train, y_train)\n",
    "\n",
    "# Best parameters\n",
    "#print(\"Best parameters: \", grid_search.best_params_)"
   ]
  },
  {
   "cell_type": "code",
   "execution_count": null,
   "id": "73359546",
   "metadata": {},
   "outputs": [],
   "source": [
    "# 3/  Training the model\n",
    "#dtr.fit(x_train, y_train)\n",
    "\n",
    "# Training Accuracy\n",
    "#dtr.score(x_train, y_train)\n"
   ]
  },
  {
   "cell_type": "code",
   "execution_count": null,
   "id": "681639ec",
   "metadata": {},
   "outputs": [],
   "source": [
    "# 4/ \n",
    "# Predicting the house price\n",
    "#y_pred = dtr.predict(x_test)"
   ]
  },
  {
   "cell_type": "markdown",
   "id": "ad9d34af",
   "metadata": {},
   "source": [
    "# Evaluating un model "
   ]
  },
  {
   "cell_type": "code",
   "execution_count": null,
   "id": "8063762e",
   "metadata": {},
   "outputs": [],
   "source": [
    "#1 créer le tableau de comparaison\n",
    "\n",
    "#dft = pd.DataFrame({'Actual': y_test, 'Predicted': y_pred})\n",
    "#dft.reset_index(drop=True, inplace=True)\n",
    "#dft.head(10)"
   ]
  },
  {
   "cell_type": "code",
   "execution_count": null,
   "id": "5d600814",
   "metadata": {},
   "outputs": [],
   "source": [
    "#2 afficher le graph \n",
    "\n",
    "#ax = sns.distplot(dft['Actual'], color = 'r', label = 'Actual Price', hist = False)\n",
    "#sns.distplot(dft['Predicted'], color = 'g', label = 'Predicted Price', ax=ax, hist = False)"
   ]
  },
  {
   "cell_type": "code",
   "execution_count": null,
   "id": "b3000b72",
   "metadata": {},
   "outputs": [],
   "source": [
    "#3 evaluation du model \n",
    "\n",
    "#from sklearn.metrics import r2_score, mean_squared_error, mean_absolute_error\n",
    "#print(\"R2 Score: \", r2_score(y_test, d_pred))\n",
    "#print(\"Mean Squared Error: \", mean_squared_error(y_test, d_pred))\n",
    "#print(\"Mean Absolute Error: \", mean_absolute_error(y_test, d_pred))\n",
    "#print(\"Root Mean Squared Error: \", np.sqrt(mean_squared_error(y_test, d_pred)))"
   ]
  }
 ],
 "metadata": {
  "kernelspec": {
   "display_name": "Python 3 (ipykernel)",
   "language": "python",
   "name": "python3"
  },
  "language_info": {
   "codemirror_mode": {
    "name": "ipython",
    "version": 3
   },
   "file_extension": ".py",
   "mimetype": "text/x-python",
   "name": "python",
   "nbconvert_exporter": "python",
   "pygments_lexer": "ipython3",
   "version": "3.11.4"
  }
 },
 "nbformat": 4,
 "nbformat_minor": 5
}
