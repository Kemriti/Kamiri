{
 "cells": [
  {
   "cell_type": "code",
   "execution_count": 2,
   "id": "7e091cee",
   "metadata": {},
   "outputs": [
    {
     "name": "stderr",
     "output_type": "stream",
     "text": [
      "C:\\Users\\Kamir\\AppData\\Local\\Temp\\ipykernel_92168\\4107055879.py:5: MatplotlibDeprecationWarning: The seaborn styles shipped by Matplotlib are deprecated since 3.6, as they no longer correspond to the styles shipped by seaborn. However, they will remain available as 'seaborn-v0_8-<style>'. Alternatively, directly use the seaborn API instead.\n",
      "  plt.style.use(\"seaborn\")\n"
     ]
    }
   ],
   "source": [
    "import pandas as pd \n",
    "import yfinance as yf \n",
    "import numpy as np \n",
    "import matplotlib.pyplot as plt\n",
    "plt.style.use(\"seaborn\")\n",
    "from itertools import product"
   ]
  },
  {
   "cell_type": "code",
   "execution_count": 3,
   "id": "d772b79e",
   "metadata": {},
   "outputs": [],
   "source": [
    "ticker = [\"EURUSD=X\",\"EURGBP=X\",\"EURCHF=X\",\"EURJPY=X\",\"EURAUD=X\"]\n",
    "debut=\"2004-01-01\"\n",
    "fin=\"2023-08-31\""
   ]
  },
  {
   "cell_type": "code",
   "execution_count": 4,
   "id": "24d4089a",
   "metadata": {},
   "outputs": [
    {
     "name": "stdout",
     "output_type": "stream",
     "text": [
      "[*********************100%%**********************]  5 of 5 completed\n"
     ]
    }
   ],
   "source": [
    "df=yf.download(ticker,debut,fin).Close"
   ]
  },
  {
   "cell_type": "code",
   "execution_count": 27,
   "id": "9038cf16",
   "metadata": {},
   "outputs": [],
   "source": [
    "df.to_csv(\"fx_pairs.csv\")"
   ]
  },
  {
   "cell_type": "code",
   "execution_count": null,
   "id": "bdc034cc",
   "metadata": {},
   "outputs": [],
   "source": []
  },
  {
   "cell_type": "code",
   "execution_count": null,
   "id": "f9746684",
   "metadata": {},
   "outputs": [],
   "source": []
  },
  {
   "cell_type": "markdown",
   "id": "3fd26403",
   "metadata": {},
   "source": [
    "Get data ()"
   ]
  },
  {
   "cell_type": "code",
   "execution_count": 5,
   "id": "feb91eda",
   "metadata": {},
   "outputs": [
    {
     "data": {
      "text/html": [
       "<div>\n",
       "<style scoped>\n",
       "    .dataframe tbody tr th:only-of-type {\n",
       "        vertical-align: middle;\n",
       "    }\n",
       "\n",
       "    .dataframe tbody tr th {\n",
       "        vertical-align: top;\n",
       "    }\n",
       "\n",
       "    .dataframe thead th {\n",
       "        text-align: right;\n",
       "    }\n",
       "</style>\n",
       "<table border=\"1\" class=\"dataframe\">\n",
       "  <thead>\n",
       "    <tr style=\"text-align: right;\">\n",
       "      <th></th>\n",
       "      <th>EURAUD=X</th>\n",
       "      <th>EURCHF=X</th>\n",
       "      <th>EURGBP=X</th>\n",
       "      <th>EURJPY=X</th>\n",
       "      <th>EURUSD=X</th>\n",
       "    </tr>\n",
       "    <tr>\n",
       "      <th>Date</th>\n",
       "      <th></th>\n",
       "      <th></th>\n",
       "      <th></th>\n",
       "      <th></th>\n",
       "      <th></th>\n",
       "    </tr>\n",
       "  </thead>\n",
       "  <tbody>\n",
       "    <tr>\n",
       "      <th>2004-01-01</th>\n",
       "      <td>1.67210</td>\n",
       "      <td>1.56000</td>\n",
       "      <td>0.70440</td>\n",
       "      <td>135.009995</td>\n",
       "      <td>1.258194</td>\n",
       "    </tr>\n",
       "    <tr>\n",
       "      <th>2004-01-02</th>\n",
       "      <td>1.65750</td>\n",
       "      <td>1.55850</td>\n",
       "      <td>0.70050</td>\n",
       "      <td>134.669998</td>\n",
       "      <td>1.258194</td>\n",
       "    </tr>\n",
       "    <tr>\n",
       "      <th>2004-01-05</th>\n",
       "      <td>1.65220</td>\n",
       "      <td>1.56300</td>\n",
       "      <td>0.70170</td>\n",
       "      <td>134.800003</td>\n",
       "      <td>1.268698</td>\n",
       "    </tr>\n",
       "    <tr>\n",
       "      <th>2004-01-06</th>\n",
       "      <td>1.65410</td>\n",
       "      <td>1.56700</td>\n",
       "      <td>0.69840</td>\n",
       "      <td>135.110001</td>\n",
       "      <td>1.272103</td>\n",
       "    </tr>\n",
       "    <tr>\n",
       "      <th>2004-01-07</th>\n",
       "      <td>1.64510</td>\n",
       "      <td>1.56700</td>\n",
       "      <td>0.69520</td>\n",
       "      <td>134.179993</td>\n",
       "      <td>1.264095</td>\n",
       "    </tr>\n",
       "    <tr>\n",
       "      <th>...</th>\n",
       "      <td>...</td>\n",
       "      <td>...</td>\n",
       "      <td>...</td>\n",
       "      <td>...</td>\n",
       "      <td>...</td>\n",
       "    </tr>\n",
       "    <tr>\n",
       "      <th>2023-08-25</th>\n",
       "      <td>1.68382</td>\n",
       "      <td>0.95591</td>\n",
       "      <td>0.85749</td>\n",
       "      <td>157.725006</td>\n",
       "      <td>1.079914</td>\n",
       "    </tr>\n",
       "    <tr>\n",
       "      <th>2023-08-28</th>\n",
       "      <td>1.68262</td>\n",
       "      <td>0.95530</td>\n",
       "      <td>0.85760</td>\n",
       "      <td>158.207993</td>\n",
       "      <td>1.079739</td>\n",
       "    </tr>\n",
       "    <tr>\n",
       "      <th>2023-08-29</th>\n",
       "      <td>NaN</td>\n",
       "      <td>0.95641</td>\n",
       "      <td>0.85836</td>\n",
       "      <td>158.544998</td>\n",
       "      <td>1.082556</td>\n",
       "    </tr>\n",
       "    <tr>\n",
       "      <th>2023-08-30</th>\n",
       "      <td>1.67815</td>\n",
       "      <td>0.95530</td>\n",
       "      <td>0.86008</td>\n",
       "      <td>158.669006</td>\n",
       "      <td>1.086921</td>\n",
       "    </tr>\n",
       "    <tr>\n",
       "      <th>2023-08-31</th>\n",
       "      <td>1.68689</td>\n",
       "      <td>0.95968</td>\n",
       "      <td>0.85975</td>\n",
       "      <td>159.667999</td>\n",
       "      <td>1.093255</td>\n",
       "    </tr>\n",
       "  </tbody>\n",
       "</table>\n",
       "<p>5123 rows × 5 columns</p>\n",
       "</div>"
      ],
      "text/plain": [
       "            EURAUD=X  EURCHF=X  EURGBP=X    EURJPY=X  EURUSD=X\n",
       "Date                                                          \n",
       "2004-01-01   1.67210   1.56000   0.70440  135.009995  1.258194\n",
       "2004-01-02   1.65750   1.55850   0.70050  134.669998  1.258194\n",
       "2004-01-05   1.65220   1.56300   0.70170  134.800003  1.268698\n",
       "2004-01-06   1.65410   1.56700   0.69840  135.110001  1.272103\n",
       "2004-01-07   1.64510   1.56700   0.69520  134.179993  1.264095\n",
       "...              ...       ...       ...         ...       ...\n",
       "2023-08-25   1.68382   0.95591   0.85749  157.725006  1.079914\n",
       "2023-08-28   1.68262   0.95530   0.85760  158.207993  1.079739\n",
       "2023-08-29       NaN   0.95641   0.85836  158.544998  1.082556\n",
       "2023-08-30   1.67815   0.95530   0.86008  158.669006  1.086921\n",
       "2023-08-31   1.68689   0.95968   0.85975  159.667999  1.093255\n",
       "\n",
       "[5123 rows x 5 columns]"
      ]
     },
     "execution_count": 5,
     "metadata": {},
     "output_type": "execute_result"
    }
   ],
   "source": [
    "raw=pd.read_csv(\"fx_pairs.csv\", parse_dates=[\"Date\"], index_col=\"Date\")\n",
    "raw"
   ]
  },
  {
   "cell_type": "code",
   "execution_count": 6,
   "id": "eb3ac6fb",
   "metadata": {},
   "outputs": [
    {
     "data": {
      "text/html": [
       "<div>\n",
       "<style scoped>\n",
       "    .dataframe tbody tr th:only-of-type {\n",
       "        vertical-align: middle;\n",
       "    }\n",
       "\n",
       "    .dataframe tbody tr th {\n",
       "        vertical-align: top;\n",
       "    }\n",
       "\n",
       "    .dataframe thead th {\n",
       "        text-align: right;\n",
       "    }\n",
       "</style>\n",
       "<table border=\"1\" class=\"dataframe\">\n",
       "  <thead>\n",
       "    <tr style=\"text-align: right;\">\n",
       "      <th></th>\n",
       "      <th>EURAUD=X</th>\n",
       "    </tr>\n",
       "    <tr>\n",
       "      <th>Date</th>\n",
       "      <th></th>\n",
       "    </tr>\n",
       "  </thead>\n",
       "  <tbody>\n",
       "    <tr>\n",
       "      <th>2004-01-01</th>\n",
       "      <td>1.67210</td>\n",
       "    </tr>\n",
       "    <tr>\n",
       "      <th>2004-01-02</th>\n",
       "      <td>1.65750</td>\n",
       "    </tr>\n",
       "    <tr>\n",
       "      <th>2004-01-05</th>\n",
       "      <td>1.65220</td>\n",
       "    </tr>\n",
       "    <tr>\n",
       "      <th>2004-01-06</th>\n",
       "      <td>1.65410</td>\n",
       "    </tr>\n",
       "    <tr>\n",
       "      <th>2004-01-07</th>\n",
       "      <td>1.64510</td>\n",
       "    </tr>\n",
       "    <tr>\n",
       "      <th>...</th>\n",
       "      <td>...</td>\n",
       "    </tr>\n",
       "    <tr>\n",
       "      <th>2023-08-24</th>\n",
       "      <td>1.67652</td>\n",
       "    </tr>\n",
       "    <tr>\n",
       "      <th>2023-08-25</th>\n",
       "      <td>1.68382</td>\n",
       "    </tr>\n",
       "    <tr>\n",
       "      <th>2023-08-28</th>\n",
       "      <td>1.68262</td>\n",
       "    </tr>\n",
       "    <tr>\n",
       "      <th>2023-08-30</th>\n",
       "      <td>1.67815</td>\n",
       "    </tr>\n",
       "    <tr>\n",
       "      <th>2023-08-31</th>\n",
       "      <td>1.68689</td>\n",
       "    </tr>\n",
       "  </tbody>\n",
       "</table>\n",
       "<p>5118 rows × 1 columns</p>\n",
       "</div>"
      ],
      "text/plain": [
       "            EURAUD=X\n",
       "Date                \n",
       "2004-01-01   1.67210\n",
       "2004-01-02   1.65750\n",
       "2004-01-05   1.65220\n",
       "2004-01-06   1.65410\n",
       "2004-01-07   1.64510\n",
       "...              ...\n",
       "2023-08-24   1.67652\n",
       "2023-08-25   1.68382\n",
       "2023-08-28   1.68262\n",
       "2023-08-30   1.67815\n",
       "2023-08-31   1.68689\n",
       "\n",
       "[5118 rows x 1 columns]"
      ]
     },
     "execution_count": 6,
     "metadata": {},
     "output_type": "execute_result"
    }
   ],
   "source": [
    "raw=raw[\"EURAUD=X\"].to_frame().dropna() #selecting an instrument\n",
    "raw"
   ]
  },
  {
   "cell_type": "code",
   "execution_count": 7,
   "id": "f8ec775e",
   "metadata": {},
   "outputs": [],
   "source": [
    "raw=raw.loc[\"2010-01-01\":\"2023-08-31\"] #setting a time period\n"
   ]
  },
  {
   "cell_type": "code",
   "execution_count": 8,
   "id": "767e60e6",
   "metadata": {},
   "outputs": [
    {
     "data": {
      "text/html": [
       "<div>\n",
       "<style scoped>\n",
       "    .dataframe tbody tr th:only-of-type {\n",
       "        vertical-align: middle;\n",
       "    }\n",
       "\n",
       "    .dataframe tbody tr th {\n",
       "        vertical-align: top;\n",
       "    }\n",
       "\n",
       "    .dataframe thead th {\n",
       "        text-align: right;\n",
       "    }\n",
       "</style>\n",
       "<table border=\"1\" class=\"dataframe\">\n",
       "  <thead>\n",
       "    <tr style=\"text-align: right;\">\n",
       "      <th></th>\n",
       "      <th>EURAUD=X</th>\n",
       "    </tr>\n",
       "    <tr>\n",
       "      <th>Date</th>\n",
       "      <th></th>\n",
       "    </tr>\n",
       "  </thead>\n",
       "  <tbody>\n",
       "    <tr>\n",
       "      <th>2010-01-01</th>\n",
       "      <td>1.60230</td>\n",
       "    </tr>\n",
       "    <tr>\n",
       "      <th>2010-01-04</th>\n",
       "      <td>1.58050</td>\n",
       "    </tr>\n",
       "    <tr>\n",
       "      <th>2010-01-05</th>\n",
       "      <td>1.57520</td>\n",
       "    </tr>\n",
       "    <tr>\n",
       "      <th>2010-01-06</th>\n",
       "      <td>1.56440</td>\n",
       "    </tr>\n",
       "    <tr>\n",
       "      <th>2010-01-07</th>\n",
       "      <td>1.55920</td>\n",
       "    </tr>\n",
       "    <tr>\n",
       "      <th>...</th>\n",
       "      <td>...</td>\n",
       "    </tr>\n",
       "    <tr>\n",
       "      <th>2023-08-24</th>\n",
       "      <td>1.67652</td>\n",
       "    </tr>\n",
       "    <tr>\n",
       "      <th>2023-08-25</th>\n",
       "      <td>1.68382</td>\n",
       "    </tr>\n",
       "    <tr>\n",
       "      <th>2023-08-28</th>\n",
       "      <td>1.68262</td>\n",
       "    </tr>\n",
       "    <tr>\n",
       "      <th>2023-08-30</th>\n",
       "      <td>1.67815</td>\n",
       "    </tr>\n",
       "    <tr>\n",
       "      <th>2023-08-31</th>\n",
       "      <td>1.68689</td>\n",
       "    </tr>\n",
       "  </tbody>\n",
       "</table>\n",
       "<p>3561 rows × 1 columns</p>\n",
       "</div>"
      ],
      "text/plain": [
       "            EURAUD=X\n",
       "Date                \n",
       "2010-01-01   1.60230\n",
       "2010-01-04   1.58050\n",
       "2010-01-05   1.57520\n",
       "2010-01-06   1.56440\n",
       "2010-01-07   1.55920\n",
       "...              ...\n",
       "2023-08-24   1.67652\n",
       "2023-08-25   1.68382\n",
       "2023-08-28   1.68262\n",
       "2023-08-30   1.67815\n",
       "2023-08-31   1.68689\n",
       "\n",
       "[3561 rows x 1 columns]"
      ]
     },
     "execution_count": 8,
     "metadata": {},
     "output_type": "execute_result"
    }
   ],
   "source": [
    "raw"
   ]
  },
  {
   "cell_type": "code",
   "execution_count": 9,
   "id": "1c0c0966",
   "metadata": {},
   "outputs": [
    {
     "name": "stderr",
     "output_type": "stream",
     "text": [
      "C:\\Users\\Kamir\\AppData\\Local\\Temp\\ipykernel_92168\\1176880035.py:1: SettingWithCopyWarning: \n",
      "A value is trying to be set on a copy of a slice from a DataFrame\n",
      "\n",
      "See the caveats in the documentation: https://pandas.pydata.org/pandas-docs/stable/user_guide/indexing.html#returning-a-view-versus-a-copy\n",
      "  raw.rename(columns={\"EURAUD=X\":\"price\"}, inplace=True) #changing the column name\n"
     ]
    }
   ],
   "source": [
    "raw.rename(columns={\"EURAUD=X\":\"price\"}, inplace=True) #changing the column name"
   ]
  },
  {
   "cell_type": "code",
   "execution_count": 10,
   "id": "0d18fce5",
   "metadata": {},
   "outputs": [
    {
     "data": {
      "text/html": [
       "<div>\n",
       "<style scoped>\n",
       "    .dataframe tbody tr th:only-of-type {\n",
       "        vertical-align: middle;\n",
       "    }\n",
       "\n",
       "    .dataframe tbody tr th {\n",
       "        vertical-align: top;\n",
       "    }\n",
       "\n",
       "    .dataframe thead th {\n",
       "        text-align: right;\n",
       "    }\n",
       "</style>\n",
       "<table border=\"1\" class=\"dataframe\">\n",
       "  <thead>\n",
       "    <tr style=\"text-align: right;\">\n",
       "      <th></th>\n",
       "      <th>price</th>\n",
       "    </tr>\n",
       "    <tr>\n",
       "      <th>Date</th>\n",
       "      <th></th>\n",
       "    </tr>\n",
       "  </thead>\n",
       "  <tbody>\n",
       "    <tr>\n",
       "      <th>2010-01-01</th>\n",
       "      <td>1.60230</td>\n",
       "    </tr>\n",
       "    <tr>\n",
       "      <th>2010-01-04</th>\n",
       "      <td>1.58050</td>\n",
       "    </tr>\n",
       "    <tr>\n",
       "      <th>2010-01-05</th>\n",
       "      <td>1.57520</td>\n",
       "    </tr>\n",
       "    <tr>\n",
       "      <th>2010-01-06</th>\n",
       "      <td>1.56440</td>\n",
       "    </tr>\n",
       "    <tr>\n",
       "      <th>2010-01-07</th>\n",
       "      <td>1.55920</td>\n",
       "    </tr>\n",
       "    <tr>\n",
       "      <th>...</th>\n",
       "      <td>...</td>\n",
       "    </tr>\n",
       "    <tr>\n",
       "      <th>2023-08-24</th>\n",
       "      <td>1.67652</td>\n",
       "    </tr>\n",
       "    <tr>\n",
       "      <th>2023-08-25</th>\n",
       "      <td>1.68382</td>\n",
       "    </tr>\n",
       "    <tr>\n",
       "      <th>2023-08-28</th>\n",
       "      <td>1.68262</td>\n",
       "    </tr>\n",
       "    <tr>\n",
       "      <th>2023-08-30</th>\n",
       "      <td>1.67815</td>\n",
       "    </tr>\n",
       "    <tr>\n",
       "      <th>2023-08-31</th>\n",
       "      <td>1.68689</td>\n",
       "    </tr>\n",
       "  </tbody>\n",
       "</table>\n",
       "<p>3561 rows × 1 columns</p>\n",
       "</div>"
      ],
      "text/plain": [
       "              price\n",
       "Date               \n",
       "2010-01-01  1.60230\n",
       "2010-01-04  1.58050\n",
       "2010-01-05  1.57520\n",
       "2010-01-06  1.56440\n",
       "2010-01-07  1.55920\n",
       "...             ...\n",
       "2023-08-24  1.67652\n",
       "2023-08-25  1.68382\n",
       "2023-08-28  1.68262\n",
       "2023-08-30  1.67815\n",
       "2023-08-31  1.68689\n",
       "\n",
       "[3561 rows x 1 columns]"
      ]
     },
     "execution_count": 10,
     "metadata": {},
     "output_type": "execute_result"
    }
   ],
   "source": [
    "raw"
   ]
  },
  {
   "cell_type": "code",
   "execution_count": 11,
   "id": "73f92d08",
   "metadata": {},
   "outputs": [
    {
     "name": "stdout",
     "output_type": "stream",
     "text": [
      "<class 'pandas.core.frame.DataFrame'>\n",
      "DatetimeIndex: 3561 entries, 2010-01-01 to 2023-08-31\n",
      "Data columns (total 1 columns):\n",
      " #   Column  Non-Null Count  Dtype  \n",
      "---  ------  --------------  -----  \n",
      " 0   price   3561 non-null   float64\n",
      "dtypes: float64(1)\n",
      "memory usage: 55.6 KB\n"
     ]
    }
   ],
   "source": [
    "raw.info()"
   ]
  },
  {
   "cell_type": "code",
   "execution_count": 18,
   "id": "787ed516",
   "metadata": {},
   "outputs": [
    {
     "name": "stderr",
     "output_type": "stream",
     "text": [
      "C:\\Users\\Kamir\\AppData\\Local\\Temp\\ipykernel_75036\\3410694512.py:1: SettingWithCopyWarning: \n",
      "A value is trying to be set on a copy of a slice from a DataFrame.\n",
      "Try using .loc[row_indexer,col_indexer] = value instead\n",
      "\n",
      "See the caveats in the documentation: https://pandas.pydata.org/pandas-docs/stable/user_guide/indexing.html#returning-a-view-versus-a-copy\n",
      "  raw[\"returns\"]=np.log(raw.price/raw.price.shift())\n"
     ]
    }
   ],
   "source": [
    "raw[\"returns\"]=np.log(raw.price/raw.price.shift())"
   ]
  },
  {
   "cell_type": "code",
   "execution_count": 19,
   "id": "509f7fa0",
   "metadata": {},
   "outputs": [
    {
     "name": "stderr",
     "output_type": "stream",
     "text": [
      "C:\\Users\\Kamir\\AppData\\Local\\Temp\\ipykernel_75036\\4216722460.py:1: SettingWithCopyWarning: \n",
      "A value is trying to be set on a copy of a slice from a DataFrame.\n",
      "Try using .loc[row_indexer,col_indexer] = value instead\n",
      "\n",
      "See the caveats in the documentation: https://pandas.pydata.org/pandas-docs/stable/user_guide/indexing.html#returning-a-view-versus-a-copy\n",
      "  raw[\"sma_s\"]=raw[\"price\"].rolling(50).mean()\n",
      "C:\\Users\\Kamir\\AppData\\Local\\Temp\\ipykernel_75036\\4216722460.py:2: SettingWithCopyWarning: \n",
      "A value is trying to be set on a copy of a slice from a DataFrame.\n",
      "Try using .loc[row_indexer,col_indexer] = value instead\n",
      "\n",
      "See the caveats in the documentation: https://pandas.pydata.org/pandas-docs/stable/user_guide/indexing.html#returning-a-view-versus-a-copy\n",
      "  raw[\"sma_l\"]=raw[\"price\"].rolling(200).mean()\n"
     ]
    }
   ],
   "source": [
    "raw[\"sma_s\"]=raw[\"price\"].rolling(50).mean()\n",
    "raw[\"sma_l\"]=raw[\"price\"].rolling(200).mean()"
   ]
  },
  {
   "cell_type": "code",
   "execution_count": 20,
   "id": "6951557e",
   "metadata": {},
   "outputs": [
    {
     "data": {
      "text/html": [
       "<div>\n",
       "<style scoped>\n",
       "    .dataframe tbody tr th:only-of-type {\n",
       "        vertical-align: middle;\n",
       "    }\n",
       "\n",
       "    .dataframe tbody tr th {\n",
       "        vertical-align: top;\n",
       "    }\n",
       "\n",
       "    .dataframe thead th {\n",
       "        text-align: right;\n",
       "    }\n",
       "</style>\n",
       "<table border=\"1\" class=\"dataframe\">\n",
       "  <thead>\n",
       "    <tr style=\"text-align: right;\">\n",
       "      <th></th>\n",
       "      <th>price</th>\n",
       "      <th>returns</th>\n",
       "      <th>sma_s</th>\n",
       "      <th>sma_l</th>\n",
       "    </tr>\n",
       "    <tr>\n",
       "      <th>Date</th>\n",
       "      <th></th>\n",
       "      <th></th>\n",
       "      <th></th>\n",
       "      <th></th>\n",
       "    </tr>\n",
       "  </thead>\n",
       "  <tbody>\n",
       "    <tr>\n",
       "      <th>2010-01-01</th>\n",
       "      <td>1.60230</td>\n",
       "      <td>NaN</td>\n",
       "      <td>NaN</td>\n",
       "      <td>NaN</td>\n",
       "    </tr>\n",
       "    <tr>\n",
       "      <th>2010-01-04</th>\n",
       "      <td>1.58050</td>\n",
       "      <td>-0.013699</td>\n",
       "      <td>NaN</td>\n",
       "      <td>NaN</td>\n",
       "    </tr>\n",
       "    <tr>\n",
       "      <th>2010-01-05</th>\n",
       "      <td>1.57520</td>\n",
       "      <td>-0.003359</td>\n",
       "      <td>NaN</td>\n",
       "      <td>NaN</td>\n",
       "    </tr>\n",
       "    <tr>\n",
       "      <th>2010-01-06</th>\n",
       "      <td>1.56440</td>\n",
       "      <td>-0.006880</td>\n",
       "      <td>NaN</td>\n",
       "      <td>NaN</td>\n",
       "    </tr>\n",
       "    <tr>\n",
       "      <th>2010-01-07</th>\n",
       "      <td>1.55920</td>\n",
       "      <td>-0.003329</td>\n",
       "      <td>NaN</td>\n",
       "      <td>NaN</td>\n",
       "    </tr>\n",
       "    <tr>\n",
       "      <th>...</th>\n",
       "      <td>...</td>\n",
       "      <td>...</td>\n",
       "      <td>...</td>\n",
       "      <td>...</td>\n",
       "    </tr>\n",
       "    <tr>\n",
       "      <th>2023-08-24</th>\n",
       "      <td>1.67652</td>\n",
       "      <td>-0.006972</td>\n",
       "      <td>1.650626</td>\n",
       "      <td>1.605226</td>\n",
       "    </tr>\n",
       "    <tr>\n",
       "      <th>2023-08-25</th>\n",
       "      <td>1.68382</td>\n",
       "      <td>0.004345</td>\n",
       "      <td>1.652487</td>\n",
       "      <td>1.605900</td>\n",
       "    </tr>\n",
       "    <tr>\n",
       "      <th>2023-08-28</th>\n",
       "      <td>1.68262</td>\n",
       "      <td>-0.000713</td>\n",
       "      <td>1.654313</td>\n",
       "      <td>1.606584</td>\n",
       "    </tr>\n",
       "    <tr>\n",
       "      <th>2023-08-30</th>\n",
       "      <td>1.67815</td>\n",
       "      <td>-0.002660</td>\n",
       "      <td>1.655987</td>\n",
       "      <td>1.607222</td>\n",
       "    </tr>\n",
       "    <tr>\n",
       "      <th>2023-08-31</th>\n",
       "      <td>1.68689</td>\n",
       "      <td>0.005195</td>\n",
       "      <td>1.657555</td>\n",
       "      <td>1.607903</td>\n",
       "    </tr>\n",
       "  </tbody>\n",
       "</table>\n",
       "<p>3561 rows × 4 columns</p>\n",
       "</div>"
      ],
      "text/plain": [
       "              price   returns     sma_s     sma_l\n",
       "Date                                             \n",
       "2010-01-01  1.60230       NaN       NaN       NaN\n",
       "2010-01-04  1.58050 -0.013699       NaN       NaN\n",
       "2010-01-05  1.57520 -0.003359       NaN       NaN\n",
       "2010-01-06  1.56440 -0.006880       NaN       NaN\n",
       "2010-01-07  1.55920 -0.003329       NaN       NaN\n",
       "...             ...       ...       ...       ...\n",
       "2023-08-24  1.67652 -0.006972  1.650626  1.605226\n",
       "2023-08-25  1.68382  0.004345  1.652487  1.605900\n",
       "2023-08-28  1.68262 -0.000713  1.654313  1.606584\n",
       "2023-08-30  1.67815 -0.002660  1.655987  1.607222\n",
       "2023-08-31  1.68689  0.005195  1.657555  1.607903\n",
       "\n",
       "[3561 rows x 4 columns]"
      ]
     },
     "execution_count": 20,
     "metadata": {},
     "output_type": "execute_result"
    }
   ],
   "source": [
    "raw"
   ]
  },
  {
   "cell_type": "code",
   "execution_count": 50,
   "id": "f1962e69",
   "metadata": {},
   "outputs": [],
   "source": [
    "class SMABacktester ():\n",
    "    def __init__(self, symbol,sma_s,sma_l,start,end):\n",
    "        self.symbol=symbol\n",
    "        self.sma_s=sma_s\n",
    "        self.sma_l=sma_l\n",
    "        self.start=start\n",
    "        self.end=end\n",
    "        self.results=None \n",
    "        self.get_data()\n",
    "        self.prepare_data()\n",
    "        \n",
    "    def get_data(self) : \n",
    "        raw=pd.read_csv(\"fx_pairs.csv\", parse_dates=[\"Date\"], index_col=\"Date\").copy()\n",
    "        raw=raw[self.symbol].to_frame().dropna()\n",
    "        raw=raw.loc[self.start:self.end]\n",
    "        raw.rename(columns={self.symbol:\"price\"}, inplace=True) #changing the column name\n",
    "        self.data=raw\n",
    "        return raw \n",
    "    \n",
    "    def prepare_data(self) :\n",
    "        raw[\"returns\"]=np.log(raw.price/raw.price.shift())\n",
    "        raw[\"sma_s\"]=raw.price.rolling(self.sma_s).mean()\n",
    "        raw[\"sma_l\"]=raw.price.rolling(self.sma_l).mean()\n",
    "        self.data=raw\n",
    "        return raw\n",
    "    \n",
    "    def set_parameters(self, sma_s= None, sma_l= None):\n",
    "        if sma_s is not None: \n",
    "            self.sma_s= sma_s\n",
    "            self.data[\"sma_s\"]=self.data[\"price\"].rolling(self.sma_s).mean()\n",
    "        if sma_l is not None:\n",
    "            self.sma_l= sma_l\n",
    "            self.data[\"sma_l\"]=self.data[\"price\"].rolling(self.sma_l).mean()\n",
    "    \n",
    "    def test_strategy(self):\n",
    "        data=self.data.copy().dropna()\n",
    "        data[\"position\"]=np.where(data[\"sma_s\"]>data[\"sma_l\"],1,-1)\n",
    "        data[\"strategy\"]=data[\"position\"].shift()*data[\"returns\"]\n",
    "        data.dropna()\n",
    "        data[\"creturns\"]=data[\"returns\"].cumsum().apply(np.exp)\n",
    "        data[\"cstrategy\"]=data[\"strategy\"].cumsum().apply(np.exp)\n",
    "        self.results=data\n",
    "        \n",
    "        perf=data[\"cstrategy\"].iloc[-1]\n",
    "        outperf=perf - data[\"creturns\"].iloc[-1]\n",
    "        return round(perf,6), round(outperf,6)\n",
    "    \n",
    "    \n",
    "    def plot_results(self):\n",
    "        if self.results is None:\n",
    "            print(\"Run test_strategy() first\")\n",
    "        else:\n",
    "            title=\"{} | sma_s={} | sma_l={}\".format(self.symbol,self.sma_s,self.sma_l)\n",
    "            self.results[[\"creturns\",\"cstrategy\"]].plot(title=title, figsize=(15,8))\n",
    "            \n",
    "    def optimize_parameters(self,sma_s_range,sma_l_range):\n",
    "        combinations = list(product(range(*sma_s_range),range(*sma_l_range)))\n",
    "        \n",
    "        results=[]\n",
    "        for comb in combinations:\n",
    "            self.set_parameters(comb[0], comb[1])\n",
    "            results.append(self.test_strategy()[0])\n",
    "        \n",
    "        best_perf = np.max(results) #best performance\n",
    "        opt= combinations[np.argmax(results)] #optimal parameters\n",
    "        \n",
    "        #set the optimal strategy\n",
    "        self.set_parameters(opt[0],opt[1])\n",
    "        self.test_strategy\n",
    "        \n",
    "        #create a df with many results\n",
    "        many_results= pd.DataFrame(data=combinations, columns=[\"sma_s\",\"sma_l\"])\n",
    "        many_results[\"performance\"]=results\n",
    "        self.results_overview=many_results\n",
    "        \n",
    "        return opt, best_perf, many_results"
   ]
  },
  {
   "cell_type": "code",
   "execution_count": 51,
   "id": "52446dd6",
   "metadata": {},
   "outputs": [
    {
     "name": "stderr",
     "output_type": "stream",
     "text": [
      "C:\\Users\\Kamir\\AppData\\Local\\Temp\\ipykernel_75036\\365372323.py:21: SettingWithCopyWarning: \n",
      "A value is trying to be set on a copy of a slice from a DataFrame.\n",
      "Try using .loc[row_indexer,col_indexer] = value instead\n",
      "\n",
      "See the caveats in the documentation: https://pandas.pydata.org/pandas-docs/stable/user_guide/indexing.html#returning-a-view-versus-a-copy\n",
      "  raw[\"returns\"]=np.log(raw.price/raw.price.shift())\n",
      "C:\\Users\\Kamir\\AppData\\Local\\Temp\\ipykernel_75036\\365372323.py:22: SettingWithCopyWarning: \n",
      "A value is trying to be set on a copy of a slice from a DataFrame.\n",
      "Try using .loc[row_indexer,col_indexer] = value instead\n",
      "\n",
      "See the caveats in the documentation: https://pandas.pydata.org/pandas-docs/stable/user_guide/indexing.html#returning-a-view-versus-a-copy\n",
      "  raw[\"sma_s\"]=raw.price.rolling(self.sma_s).mean()\n",
      "C:\\Users\\Kamir\\AppData\\Local\\Temp\\ipykernel_75036\\365372323.py:23: SettingWithCopyWarning: \n",
      "A value is trying to be set on a copy of a slice from a DataFrame.\n",
      "Try using .loc[row_indexer,col_indexer] = value instead\n",
      "\n",
      "See the caveats in the documentation: https://pandas.pydata.org/pandas-docs/stable/user_guide/indexing.html#returning-a-view-versus-a-copy\n",
      "  raw[\"sma_l\"]=raw.price.rolling(self.sma_l).mean()\n"
     ]
    }
   ],
   "source": [
    "tester = SMABacktester(\"EURAUD=X\", 50, 200,\"2004-01-01\", \"2023-08-31\")"
   ]
  },
  {
   "cell_type": "code",
   "execution_count": 52,
   "id": "0c93824d",
   "metadata": {},
   "outputs": [
    {
     "data": {
      "text/html": [
       "<div>\n",
       "<style scoped>\n",
       "    .dataframe tbody tr th:only-of-type {\n",
       "        vertical-align: middle;\n",
       "    }\n",
       "\n",
       "    .dataframe tbody tr th {\n",
       "        vertical-align: top;\n",
       "    }\n",
       "\n",
       "    .dataframe thead th {\n",
       "        text-align: right;\n",
       "    }\n",
       "</style>\n",
       "<table border=\"1\" class=\"dataframe\">\n",
       "  <thead>\n",
       "    <tr style=\"text-align: right;\">\n",
       "      <th></th>\n",
       "      <th>price</th>\n",
       "    </tr>\n",
       "    <tr>\n",
       "      <th>Date</th>\n",
       "      <th></th>\n",
       "    </tr>\n",
       "  </thead>\n",
       "  <tbody>\n",
       "    <tr>\n",
       "      <th>2004-01-01</th>\n",
       "      <td>1.67210</td>\n",
       "    </tr>\n",
       "    <tr>\n",
       "      <th>2004-01-02</th>\n",
       "      <td>1.65750</td>\n",
       "    </tr>\n",
       "    <tr>\n",
       "      <th>2004-01-05</th>\n",
       "      <td>1.65220</td>\n",
       "    </tr>\n",
       "    <tr>\n",
       "      <th>2004-01-06</th>\n",
       "      <td>1.65410</td>\n",
       "    </tr>\n",
       "    <tr>\n",
       "      <th>2004-01-07</th>\n",
       "      <td>1.64510</td>\n",
       "    </tr>\n",
       "    <tr>\n",
       "      <th>...</th>\n",
       "      <td>...</td>\n",
       "    </tr>\n",
       "    <tr>\n",
       "      <th>2023-08-24</th>\n",
       "      <td>1.67652</td>\n",
       "    </tr>\n",
       "    <tr>\n",
       "      <th>2023-08-25</th>\n",
       "      <td>1.68382</td>\n",
       "    </tr>\n",
       "    <tr>\n",
       "      <th>2023-08-28</th>\n",
       "      <td>1.68262</td>\n",
       "    </tr>\n",
       "    <tr>\n",
       "      <th>2023-08-30</th>\n",
       "      <td>1.67815</td>\n",
       "    </tr>\n",
       "    <tr>\n",
       "      <th>2023-08-31</th>\n",
       "      <td>1.68689</td>\n",
       "    </tr>\n",
       "  </tbody>\n",
       "</table>\n",
       "<p>5118 rows × 1 columns</p>\n",
       "</div>"
      ],
      "text/plain": [
       "              price\n",
       "Date               \n",
       "2004-01-01  1.67210\n",
       "2004-01-02  1.65750\n",
       "2004-01-05  1.65220\n",
       "2004-01-06  1.65410\n",
       "2004-01-07  1.64510\n",
       "...             ...\n",
       "2023-08-24  1.67652\n",
       "2023-08-25  1.68382\n",
       "2023-08-28  1.68262\n",
       "2023-08-30  1.67815\n",
       "2023-08-31  1.68689\n",
       "\n",
       "[5118 rows x 1 columns]"
      ]
     },
     "execution_count": 52,
     "metadata": {},
     "output_type": "execute_result"
    }
   ],
   "source": [
    "tester.get_data()"
   ]
  },
  {
   "cell_type": "code",
   "execution_count": 49,
   "id": "2408e313",
   "metadata": {},
   "outputs": [
    {
     "name": "stderr",
     "output_type": "stream",
     "text": [
      "C:\\Users\\Kamir\\AppData\\Local\\Temp\\ipykernel_75036\\415312998.py:21: SettingWithCopyWarning: \n",
      "A value is trying to be set on a copy of a slice from a DataFrame.\n",
      "Try using .loc[row_indexer,col_indexer] = value instead\n",
      "\n",
      "See the caveats in the documentation: https://pandas.pydata.org/pandas-docs/stable/user_guide/indexing.html#returning-a-view-versus-a-copy\n",
      "  raw[\"returns\"]=np.log(raw.price/raw.price.shift())\n",
      "C:\\Users\\Kamir\\AppData\\Local\\Temp\\ipykernel_75036\\415312998.py:22: SettingWithCopyWarning: \n",
      "A value is trying to be set on a copy of a slice from a DataFrame.\n",
      "Try using .loc[row_indexer,col_indexer] = value instead\n",
      "\n",
      "See the caveats in the documentation: https://pandas.pydata.org/pandas-docs/stable/user_guide/indexing.html#returning-a-view-versus-a-copy\n",
      "  raw[\"sma_s\"]=raw.price.rolling(self.sma_s).mean()\n",
      "C:\\Users\\Kamir\\AppData\\Local\\Temp\\ipykernel_75036\\415312998.py:23: SettingWithCopyWarning: \n",
      "A value is trying to be set on a copy of a slice from a DataFrame.\n",
      "Try using .loc[row_indexer,col_indexer] = value instead\n",
      "\n",
      "See the caveats in the documentation: https://pandas.pydata.org/pandas-docs/stable/user_guide/indexing.html#returning-a-view-versus-a-copy\n",
      "  raw[\"sma_l\"]=raw.price.rolling(self.sma_l).mean()\n"
     ]
    },
    {
     "data": {
      "text/html": [
       "<div>\n",
       "<style scoped>\n",
       "    .dataframe tbody tr th:only-of-type {\n",
       "        vertical-align: middle;\n",
       "    }\n",
       "\n",
       "    .dataframe tbody tr th {\n",
       "        vertical-align: top;\n",
       "    }\n",
       "\n",
       "    .dataframe thead th {\n",
       "        text-align: right;\n",
       "    }\n",
       "</style>\n",
       "<table border=\"1\" class=\"dataframe\">\n",
       "  <thead>\n",
       "    <tr style=\"text-align: right;\">\n",
       "      <th></th>\n",
       "      <th>price</th>\n",
       "      <th>returns</th>\n",
       "      <th>sma_s</th>\n",
       "      <th>sma_l</th>\n",
       "    </tr>\n",
       "    <tr>\n",
       "      <th>Date</th>\n",
       "      <th></th>\n",
       "      <th></th>\n",
       "      <th></th>\n",
       "      <th></th>\n",
       "    </tr>\n",
       "  </thead>\n",
       "  <tbody>\n",
       "    <tr>\n",
       "      <th>2010-01-01</th>\n",
       "      <td>1.60230</td>\n",
       "      <td>NaN</td>\n",
       "      <td>NaN</td>\n",
       "      <td>NaN</td>\n",
       "    </tr>\n",
       "    <tr>\n",
       "      <th>2010-01-04</th>\n",
       "      <td>1.58050</td>\n",
       "      <td>-0.013699</td>\n",
       "      <td>NaN</td>\n",
       "      <td>NaN</td>\n",
       "    </tr>\n",
       "    <tr>\n",
       "      <th>2010-01-05</th>\n",
       "      <td>1.57520</td>\n",
       "      <td>-0.003359</td>\n",
       "      <td>NaN</td>\n",
       "      <td>NaN</td>\n",
       "    </tr>\n",
       "    <tr>\n",
       "      <th>2010-01-06</th>\n",
       "      <td>1.56440</td>\n",
       "      <td>-0.006880</td>\n",
       "      <td>NaN</td>\n",
       "      <td>NaN</td>\n",
       "    </tr>\n",
       "    <tr>\n",
       "      <th>2010-01-07</th>\n",
       "      <td>1.55920</td>\n",
       "      <td>-0.003329</td>\n",
       "      <td>NaN</td>\n",
       "      <td>NaN</td>\n",
       "    </tr>\n",
       "    <tr>\n",
       "      <th>...</th>\n",
       "      <td>...</td>\n",
       "      <td>...</td>\n",
       "      <td>...</td>\n",
       "      <td>...</td>\n",
       "    </tr>\n",
       "    <tr>\n",
       "      <th>2023-08-24</th>\n",
       "      <td>1.67652</td>\n",
       "      <td>-0.006972</td>\n",
       "      <td>1.650626</td>\n",
       "      <td>1.605226</td>\n",
       "    </tr>\n",
       "    <tr>\n",
       "      <th>2023-08-25</th>\n",
       "      <td>1.68382</td>\n",
       "      <td>0.004345</td>\n",
       "      <td>1.652487</td>\n",
       "      <td>1.605900</td>\n",
       "    </tr>\n",
       "    <tr>\n",
       "      <th>2023-08-28</th>\n",
       "      <td>1.68262</td>\n",
       "      <td>-0.000713</td>\n",
       "      <td>1.654313</td>\n",
       "      <td>1.606584</td>\n",
       "    </tr>\n",
       "    <tr>\n",
       "      <th>2023-08-30</th>\n",
       "      <td>1.67815</td>\n",
       "      <td>-0.002660</td>\n",
       "      <td>1.655987</td>\n",
       "      <td>1.607222</td>\n",
       "    </tr>\n",
       "    <tr>\n",
       "      <th>2023-08-31</th>\n",
       "      <td>1.68689</td>\n",
       "      <td>0.005195</td>\n",
       "      <td>1.657555</td>\n",
       "      <td>1.607903</td>\n",
       "    </tr>\n",
       "  </tbody>\n",
       "</table>\n",
       "<p>3561 rows × 4 columns</p>\n",
       "</div>"
      ],
      "text/plain": [
       "              price   returns     sma_s     sma_l\n",
       "Date                                             \n",
       "2010-01-01  1.60230       NaN       NaN       NaN\n",
       "2010-01-04  1.58050 -0.013699       NaN       NaN\n",
       "2010-01-05  1.57520 -0.003359       NaN       NaN\n",
       "2010-01-06  1.56440 -0.006880       NaN       NaN\n",
       "2010-01-07  1.55920 -0.003329       NaN       NaN\n",
       "...             ...       ...       ...       ...\n",
       "2023-08-24  1.67652 -0.006972  1.650626  1.605226\n",
       "2023-08-25  1.68382  0.004345  1.652487  1.605900\n",
       "2023-08-28  1.68262 -0.000713  1.654313  1.606584\n",
       "2023-08-30  1.67815 -0.002660  1.655987  1.607222\n",
       "2023-08-31  1.68689  0.005195  1.657555  1.607903\n",
       "\n",
       "[3561 rows x 4 columns]"
      ]
     },
     "execution_count": 49,
     "metadata": {},
     "output_type": "execute_result"
    }
   ],
   "source": [
    "tester.prepare_data()"
   ]
  },
  {
   "cell_type": "code",
   "execution_count": 22,
   "id": "5783a84a",
   "metadata": {},
   "outputs": [],
   "source": [
    "tester = SMABacktester(\"EURAUD=X\", 50, 200,\"2004-01-01\", \"2023-08-31\")"
   ]
  },
  {
   "cell_type": "code",
   "execution_count": 23,
   "id": "7e912757",
   "metadata": {},
   "outputs": [
    {
     "data": {
      "text/plain": [
       "price        0\n",
       "returns      1\n",
       "sma_s       49\n",
       "sma_l      199\n",
       "dtype: int64"
      ]
     },
     "execution_count": 23,
     "metadata": {},
     "output_type": "execute_result"
    }
   ],
   "source": [
    "tester.data.isna().sum()"
   ]
  },
  {
   "cell_type": "markdown",
   "id": "13849cb1",
   "metadata": {},
   "source": [
    "Setting new SMA parameters"
   ]
  },
  {
   "cell_type": "code",
   "execution_count": 24,
   "id": "18568800",
   "metadata": {},
   "outputs": [],
   "source": [
    "tester.set_parameters(sma_s=25, sma_l=150)"
   ]
  },
  {
   "cell_type": "code",
   "execution_count": 25,
   "id": "f8bc3dee",
   "metadata": {},
   "outputs": [
    {
     "data": {
      "text/plain": [
       "25"
      ]
     },
     "execution_count": 25,
     "metadata": {},
     "output_type": "execute_result"
    }
   ],
   "source": [
    "tester.sma_s"
   ]
  },
  {
   "cell_type": "code",
   "execution_count": 26,
   "id": "e5f821ec",
   "metadata": {},
   "outputs": [
    {
     "data": {
      "text/plain": [
       "price        0\n",
       "returns      1\n",
       "sma_s       24\n",
       "sma_l      149\n",
       "dtype: int64"
      ]
     },
     "execution_count": 26,
     "metadata": {},
     "output_type": "execute_result"
    }
   ],
   "source": [
    "tester.data.isna().sum()"
   ]
  },
  {
   "cell_type": "markdown",
   "id": "9aee1394",
   "metadata": {},
   "source": [
    "test strategy"
   ]
  },
  {
   "cell_type": "code",
   "execution_count": 27,
   "id": "8951c5d5",
   "metadata": {},
   "outputs": [],
   "source": [
    "tester = SMABacktester(\"EURAUD=X\", 50, 200,\"2004-01-01\", \"2023-08-31\")"
   ]
  },
  {
   "cell_type": "code",
   "execution_count": 28,
   "id": "ab2bbc70",
   "metadata": {},
   "outputs": [
    {
     "data": {
      "text/plain": [
       "(1.203444, 0.211156)"
      ]
     },
     "execution_count": 28,
     "metadata": {},
     "output_type": "execute_result"
    }
   ],
   "source": [
    "tester.test_strategy()"
   ]
  },
  {
   "cell_type": "code",
   "execution_count": 29,
   "id": "c0091d81",
   "metadata": {
    "scrolled": true
   },
   "outputs": [
    {
     "data": {
      "text/html": [
       "<div>\n",
       "<style scoped>\n",
       "    .dataframe tbody tr th:only-of-type {\n",
       "        vertical-align: middle;\n",
       "    }\n",
       "\n",
       "    .dataframe tbody tr th {\n",
       "        vertical-align: top;\n",
       "    }\n",
       "\n",
       "    .dataframe thead th {\n",
       "        text-align: right;\n",
       "    }\n",
       "</style>\n",
       "<table border=\"1\" class=\"dataframe\">\n",
       "  <thead>\n",
       "    <tr style=\"text-align: right;\">\n",
       "      <th></th>\n",
       "      <th>price</th>\n",
       "      <th>returns</th>\n",
       "      <th>sma_s</th>\n",
       "      <th>sma_l</th>\n",
       "      <th>position</th>\n",
       "      <th>strategy</th>\n",
       "      <th>creturns</th>\n",
       "      <th>cstrategy</th>\n",
       "    </tr>\n",
       "    <tr>\n",
       "      <th>Date</th>\n",
       "      <th></th>\n",
       "      <th></th>\n",
       "      <th></th>\n",
       "      <th></th>\n",
       "      <th></th>\n",
       "      <th></th>\n",
       "      <th></th>\n",
       "      <th></th>\n",
       "    </tr>\n",
       "  </thead>\n",
       "  <tbody>\n",
       "    <tr>\n",
       "      <th>2004-10-07</th>\n",
       "      <td>1.68910</td>\n",
       "      <td>-0.006315</td>\n",
       "      <td>1.723916</td>\n",
       "      <td>1.681553</td>\n",
       "      <td>1</td>\n",
       "      <td>-0.006315</td>\n",
       "      <td>0.993588</td>\n",
       "      <td>0.993705</td>\n",
       "    </tr>\n",
       "    <tr>\n",
       "      <th>2004-10-08</th>\n",
       "      <td>1.68820</td>\n",
       "      <td>-0.000533</td>\n",
       "      <td>1.723494</td>\n",
       "      <td>1.681707</td>\n",
       "      <td>1</td>\n",
       "      <td>-0.000533</td>\n",
       "      <td>0.993059</td>\n",
       "      <td>0.993176</td>\n",
       "    </tr>\n",
       "    <tr>\n",
       "      <th>2004-10-11</th>\n",
       "      <td>1.68620</td>\n",
       "      <td>-0.001185</td>\n",
       "      <td>1.722982</td>\n",
       "      <td>1.681877</td>\n",
       "      <td>1</td>\n",
       "      <td>-0.001185</td>\n",
       "      <td>0.991882</td>\n",
       "      <td>0.991999</td>\n",
       "    </tr>\n",
       "    <tr>\n",
       "      <th>2004-10-12</th>\n",
       "      <td>1.68880</td>\n",
       "      <td>0.001541</td>\n",
       "      <td>1.722610</td>\n",
       "      <td>1.682050</td>\n",
       "      <td>1</td>\n",
       "      <td>0.001541</td>\n",
       "      <td>0.993412</td>\n",
       "      <td>0.993529</td>\n",
       "    </tr>\n",
       "    <tr>\n",
       "      <th>2004-10-13</th>\n",
       "      <td>1.70070</td>\n",
       "      <td>0.007022</td>\n",
       "      <td>1.722444</td>\n",
       "      <td>1.682328</td>\n",
       "      <td>1</td>\n",
       "      <td>0.007022</td>\n",
       "      <td>1.000412</td>\n",
       "      <td>1.000529</td>\n",
       "    </tr>\n",
       "    <tr>\n",
       "      <th>...</th>\n",
       "      <td>...</td>\n",
       "      <td>...</td>\n",
       "      <td>...</td>\n",
       "      <td>...</td>\n",
       "      <td>...</td>\n",
       "      <td>...</td>\n",
       "      <td>...</td>\n",
       "      <td>...</td>\n",
       "    </tr>\n",
       "    <tr>\n",
       "      <th>2023-08-24</th>\n",
       "      <td>1.67652</td>\n",
       "      <td>-0.006972</td>\n",
       "      <td>1.650626</td>\n",
       "      <td>1.605226</td>\n",
       "      <td>1</td>\n",
       "      <td>-0.006972</td>\n",
       "      <td>0.986188</td>\n",
       "      <td>1.196046</td>\n",
       "    </tr>\n",
       "    <tr>\n",
       "      <th>2023-08-25</th>\n",
       "      <td>1.68382</td>\n",
       "      <td>0.004345</td>\n",
       "      <td>1.652487</td>\n",
       "      <td>1.605900</td>\n",
       "      <td>1</td>\n",
       "      <td>0.004345</td>\n",
       "      <td>0.990482</td>\n",
       "      <td>1.201254</td>\n",
       "    </tr>\n",
       "    <tr>\n",
       "      <th>2023-08-28</th>\n",
       "      <td>1.68262</td>\n",
       "      <td>-0.000713</td>\n",
       "      <td>1.654313</td>\n",
       "      <td>1.606584</td>\n",
       "      <td>1</td>\n",
       "      <td>-0.000713</td>\n",
       "      <td>0.989776</td>\n",
       "      <td>1.200398</td>\n",
       "    </tr>\n",
       "    <tr>\n",
       "      <th>2023-08-30</th>\n",
       "      <td>1.67815</td>\n",
       "      <td>-0.002660</td>\n",
       "      <td>1.655987</td>\n",
       "      <td>1.607222</td>\n",
       "      <td>1</td>\n",
       "      <td>-0.002660</td>\n",
       "      <td>0.987147</td>\n",
       "      <td>1.197209</td>\n",
       "    </tr>\n",
       "    <tr>\n",
       "      <th>2023-08-31</th>\n",
       "      <td>1.68689</td>\n",
       "      <td>0.005195</td>\n",
       "      <td>1.657555</td>\n",
       "      <td>1.607903</td>\n",
       "      <td>1</td>\n",
       "      <td>0.005195</td>\n",
       "      <td>0.992288</td>\n",
       "      <td>1.203444</td>\n",
       "    </tr>\n",
       "  </tbody>\n",
       "</table>\n",
       "<p>4918 rows × 8 columns</p>\n",
       "</div>"
      ],
      "text/plain": [
       "              price   returns     sma_s     sma_l  position  strategy  \\\n",
       "Date                                                                    \n",
       "2004-10-07  1.68910 -0.006315  1.723916  1.681553         1 -0.006315   \n",
       "2004-10-08  1.68820 -0.000533  1.723494  1.681707         1 -0.000533   \n",
       "2004-10-11  1.68620 -0.001185  1.722982  1.681877         1 -0.001185   \n",
       "2004-10-12  1.68880  0.001541  1.722610  1.682050         1  0.001541   \n",
       "2004-10-13  1.70070  0.007022  1.722444  1.682328         1  0.007022   \n",
       "...             ...       ...       ...       ...       ...       ...   \n",
       "2023-08-24  1.67652 -0.006972  1.650626  1.605226         1 -0.006972   \n",
       "2023-08-25  1.68382  0.004345  1.652487  1.605900         1  0.004345   \n",
       "2023-08-28  1.68262 -0.000713  1.654313  1.606584         1 -0.000713   \n",
       "2023-08-30  1.67815 -0.002660  1.655987  1.607222         1 -0.002660   \n",
       "2023-08-31  1.68689  0.005195  1.657555  1.607903         1  0.005195   \n",
       "\n",
       "            creturns  cstrategy  \n",
       "Date                             \n",
       "2004-10-07  0.993588   0.993705  \n",
       "2004-10-08  0.993059   0.993176  \n",
       "2004-10-11  0.991882   0.991999  \n",
       "2004-10-12  0.993412   0.993529  \n",
       "2004-10-13  1.000412   1.000529  \n",
       "...              ...        ...  \n",
       "2023-08-24  0.986188   1.196046  \n",
       "2023-08-25  0.990482   1.201254  \n",
       "2023-08-28  0.989776   1.200398  \n",
       "2023-08-30  0.987147   1.197209  \n",
       "2023-08-31  0.992288   1.203444  \n",
       "\n",
       "[4918 rows x 8 columns]"
      ]
     },
     "execution_count": 29,
     "metadata": {},
     "output_type": "execute_result"
    }
   ],
   "source": [
    "tester.results.dropna()"
   ]
  },
  {
   "cell_type": "markdown",
   "id": "695a2acd",
   "metadata": {},
   "source": [
    "### plot results"
   ]
  },
  {
   "cell_type": "code",
   "execution_count": 30,
   "id": "b5ae158f",
   "metadata": {},
   "outputs": [],
   "source": [
    "tester = SMABacktester(\"EURAUD=X\", 50, 200,\"2004-01-01\", \"2023-08-31\")"
   ]
  },
  {
   "cell_type": "code",
   "execution_count": 31,
   "id": "e0893fca",
   "metadata": {},
   "outputs": [
    {
     "data": {
      "text/plain": [
       "(1.203444, 0.211156)"
      ]
     },
     "execution_count": 31,
     "metadata": {},
     "output_type": "execute_result"
    }
   ],
   "source": [
    "tester.test_strategy()"
   ]
  },
  {
   "cell_type": "code",
   "execution_count": 32,
   "id": "f104a058",
   "metadata": {
    "scrolled": true
   },
   "outputs": [
    {
     "data": {
      "image/png": "[encoded data removed]",
      "text/plain": [
       "<Figure size 1500x800 with 1 Axes>"
      ]
     },
     "metadata": {},
     "output_type": "display_data"
    }
   ],
   "source": [
    "tester.plot_results()"
   ]
  },
  {
   "cell_type": "markdown",
   "id": "b11c0f0b",
   "metadata": {},
   "source": [
    "#### optimize parameters"
   ]
  },
  {
   "cell_type": "code",
   "execution_count": 33,
   "id": "f8855790",
   "metadata": {},
   "outputs": [],
   "source": [
    "tester = SMABacktester(\"EURUSD=X\", 50, 200,\"2004-01-01\", \"2023-08-31\")"
   ]
  },
  {
   "cell_type": "code",
   "execution_count": 9,
   "id": "800f4586",
   "metadata": {},
   "outputs": [
    {
     "data": {
      "text/plain": [
       "((46, 137),\n",
       " 2.853883,\n",
       "       sma_s  sma_l  performance\n",
       " 0        10    100     1.098043\n",
       " 1        10    101     1.068725\n",
       " 2        10    102     1.077092\n",
       " 3        10    103     1.086991\n",
       " 4        10    104     1.173537\n",
       " ...     ...    ...          ...\n",
       " 6075     49    247     1.521162\n",
       " 6076     49    248     1.548842\n",
       " 6077     49    249     1.506525\n",
       " 6078     49    250     1.509009\n",
       " 6079     49    251     1.477131\n",
       " \n",
       " [6080 rows x 3 columns])"
      ]
     },
     "execution_count": 9,
     "metadata": {},
     "output_type": "execute_result"
    }
   ],
   "source": [
    "tester.optimize_parameters((10,50,1),(100,252,1))"
   ]
  },
  {
   "cell_type": "code",
   "execution_count": null,
   "id": "eefa4903",
   "metadata": {},
   "outputs": [],
   "source": []
  },
  {
   "cell_type": "code",
   "execution_count": 5,
   "id": "dd8f05c6",
   "metadata": {},
   "outputs": [
    {
     "ename": "NameError",
     "evalue": "name 'pd' is not defined",
     "output_type": "error",
     "traceback": [
      "\u001b[1;31m---------------------------------------------------------------------------\u001b[0m",
      "\u001b[1;31mNameError\u001b[0m                                 Traceback (most recent call last)",
      "Cell \u001b[1;32mIn[5], line 1\u001b[0m\n\u001b[1;32m----> 1\u001b[0m pd\u001b[38;5;241m.\u001b[39mread_csv()\n",
      "\u001b[1;31mNameError\u001b[0m: name 'pd' is not defined"
     ]
    }
   ],
   "source": []
  },
  {
   "cell_type": "code",
   "execution_count": null,
   "id": "ac62fade",
   "metadata": {},
   "outputs": [],
   "source": []
  }
 ],
 "metadata": {
  "kernelspec": {
   "display_name": "Python 3 (ipykernel)",
   "language": "python",
   "name": "python3"
  },
  "language_info": {
   "codemirror_mode": {
    "name": "ipython",
    "version": 3
   },
   "file_extension": ".py",
   "mimetype": "text/x-python",
   "name": "python",
   "nbconvert_exporter": "python",
   "pygments_lexer": "ipython3",
   "version": "3.11.4"
  }
 },
 "nbformat": 4,
 "nbformat_minor": 5
}
