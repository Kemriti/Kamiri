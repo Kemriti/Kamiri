{
 "cells": [
  {
   "cell_type": "code",
   "execution_count": 1,
   "id": "09cc0808",
   "metadata": {},
   "outputs": [
    {
     "name": "stderr",
     "output_type": "stream",
     "text": [
      "C:\\Users\\Kamir\\AppData\\Local\\Temp\\ipykernel_6400\\4196856592.py:5: MatplotlibDeprecationWarning: The seaborn styles shipped by Matplotlib are deprecated since 3.6, as they no longer correspond to the styles shipped by seaborn. However, they will remain available as 'seaborn-v0_8-<style>'. Alternatively, directly use the seaborn API instead.\n",
      "  plt.style.use(\"seaborn\")\n"
     ]
    }
   ],
   "source": [
    "import pandas as pd\n",
    "import numpy as np \n",
    "import yfinance as yf\n",
    "import matplotlib.pyplot as plt \n",
    "plt.style.use(\"seaborn\")\n"
   ]
  },
  {
   "cell_type": "code",
   "execution_count": 2,
   "id": "d1fe279f",
   "metadata": {},
   "outputs": [],
   "source": [
    "Tickers = [\"BAC\",\"WFC\",\"BABA\",\"USB\"]\n",
    "Start = \"2023-06-01\"\n",
    "End = \"2023-09-09\""
   ]
  },
  {
   "cell_type": "code",
   "execution_count": 3,
   "id": "5175fffa",
   "metadata": {},
   "outputs": [
    {
     "name": "stdout",
     "output_type": "stream",
     "text": [
      "[*********************100%%**********************]  4 of 4 completed\n"
     ]
    }
   ],
   "source": [
    "Pf = yf.download(Tickers,Start,End).Close"
   ]
  },
  {
   "cell_type": "code",
   "execution_count": 4,
   "id": "6df72069",
   "metadata": {},
   "outputs": [
    {
     "data": {
      "text/html": [
       "<div>\n",
       "<style scoped>\n",
       "    .dataframe tbody tr th:only-of-type {\n",
       "        vertical-align: middle;\n",
       "    }\n",
       "\n",
       "    .dataframe tbody tr th {\n",
       "        vertical-align: top;\n",
       "    }\n",
       "\n",
       "    .dataframe thead th {\n",
       "        text-align: right;\n",
       "    }\n",
       "</style>\n",
       "<table border=\"1\" class=\"dataframe\">\n",
       "  <thead>\n",
       "    <tr style=\"text-align: right;\">\n",
       "      <th></th>\n",
       "      <th>BABA</th>\n",
       "      <th>BAC</th>\n",
       "      <th>USB</th>\n",
       "      <th>WFC</th>\n",
       "    </tr>\n",
       "    <tr>\n",
       "      <th>Date</th>\n",
       "      <th></th>\n",
       "      <th></th>\n",
       "      <th></th>\n",
       "      <th></th>\n",
       "    </tr>\n",
       "  </thead>\n",
       "  <tbody>\n",
       "    <tr>\n",
       "      <th>2023-06-01</th>\n",
       "      <td>83.000000</td>\n",
       "      <td>27.780001</td>\n",
       "      <td>30.520000</td>\n",
       "      <td>40.060001</td>\n",
       "    </tr>\n",
       "    <tr>\n",
       "      <th>2023-06-02</th>\n",
       "      <td>84.269997</td>\n",
       "      <td>28.709999</td>\n",
       "      <td>31.740000</td>\n",
       "      <td>41.240002</td>\n",
       "    </tr>\n",
       "    <tr>\n",
       "      <th>2023-06-05</th>\n",
       "      <td>84.400002</td>\n",
       "      <td>28.540001</td>\n",
       "      <td>31.219999</td>\n",
       "      <td>40.450001</td>\n",
       "    </tr>\n",
       "    <tr>\n",
       "      <th>2023-06-06</th>\n",
       "      <td>86.699997</td>\n",
       "      <td>29.230000</td>\n",
       "      <td>32.630001</td>\n",
       "      <td>41.259998</td>\n",
       "    </tr>\n",
       "    <tr>\n",
       "      <th>2023-06-07</th>\n",
       "      <td>85.279999</td>\n",
       "      <td>29.480000</td>\n",
       "      <td>33.259998</td>\n",
       "      <td>42.070000</td>\n",
       "    </tr>\n",
       "    <tr>\n",
       "      <th>...</th>\n",
       "      <td>...</td>\n",
       "      <td>...</td>\n",
       "      <td>...</td>\n",
       "      <td>...</td>\n",
       "    </tr>\n",
       "    <tr>\n",
       "      <th>2023-09-01</th>\n",
       "      <td>95.010002</td>\n",
       "      <td>28.980000</td>\n",
       "      <td>37.070000</td>\n",
       "      <td>41.650002</td>\n",
       "    </tr>\n",
       "    <tr>\n",
       "      <th>2023-09-05</th>\n",
       "      <td>94.650002</td>\n",
       "      <td>28.650000</td>\n",
       "      <td>36.520000</td>\n",
       "      <td>41.540001</td>\n",
       "    </tr>\n",
       "    <tr>\n",
       "      <th>2023-09-06</th>\n",
       "      <td>94.449997</td>\n",
       "      <td>28.389999</td>\n",
       "      <td>36.119999</td>\n",
       "      <td>41.020000</td>\n",
       "    </tr>\n",
       "    <tr>\n",
       "      <th>2023-09-07</th>\n",
       "      <td>89.970001</td>\n",
       "      <td>28.129999</td>\n",
       "      <td>35.630001</td>\n",
       "      <td>40.430000</td>\n",
       "    </tr>\n",
       "    <tr>\n",
       "      <th>2023-09-08</th>\n",
       "      <td>90.050003</td>\n",
       "      <td>28.360001</td>\n",
       "      <td>36.110001</td>\n",
       "      <td>41.000000</td>\n",
       "    </tr>\n",
       "  </tbody>\n",
       "</table>\n",
       "<p>69 rows × 4 columns</p>\n",
       "</div>"
      ],
      "text/plain": [
       "                 BABA        BAC        USB        WFC\n",
       "Date                                                  \n",
       "2023-06-01  83.000000  27.780001  30.520000  40.060001\n",
       "2023-06-02  84.269997  28.709999  31.740000  41.240002\n",
       "2023-06-05  84.400002  28.540001  31.219999  40.450001\n",
       "2023-06-06  86.699997  29.230000  32.630001  41.259998\n",
       "2023-06-07  85.279999  29.480000  33.259998  42.070000\n",
       "...               ...        ...        ...        ...\n",
       "2023-09-01  95.010002  28.980000  37.070000  41.650002\n",
       "2023-09-05  94.650002  28.650000  36.520000  41.540001\n",
       "2023-09-06  94.449997  28.389999  36.119999  41.020000\n",
       "2023-09-07  89.970001  28.129999  35.630001  40.430000\n",
       "2023-09-08  90.050003  28.360001  36.110001  41.000000\n",
       "\n",
       "[69 rows x 4 columns]"
      ]
     },
     "execution_count": 4,
     "metadata": {},
     "output_type": "execute_result"
    }
   ],
   "source": [
    "Pf"
   ]
  },
  {
   "cell_type": "code",
   "execution_count": 5,
   "id": "8a6dc025",
   "metadata": {
    "scrolled": true
   },
   "outputs": [
    {
     "data": {
      "text/html": [
       "<div>\n",
       "<style scoped>\n",
       "    .dataframe tbody tr th:only-of-type {\n",
       "        vertical-align: middle;\n",
       "    }\n",
       "\n",
       "    .dataframe tbody tr th {\n",
       "        vertical-align: top;\n",
       "    }\n",
       "\n",
       "    .dataframe thead th {\n",
       "        text-align: right;\n",
       "    }\n",
       "</style>\n",
       "<table border=\"1\" class=\"dataframe\">\n",
       "  <thead>\n",
       "    <tr style=\"text-align: right;\">\n",
       "      <th></th>\n",
       "      <th>BABA</th>\n",
       "      <th>BAC</th>\n",
       "      <th>USB</th>\n",
       "      <th>WFC</th>\n",
       "    </tr>\n",
       "  </thead>\n",
       "  <tbody>\n",
       "    <tr>\n",
       "      <th>count</th>\n",
       "      <td>69.000000</td>\n",
       "      <td>69.000000</td>\n",
       "      <td>69.000000</td>\n",
       "      <td>69.000000</td>\n",
       "    </tr>\n",
       "    <tr>\n",
       "      <th>mean</th>\n",
       "      <td>90.956811</td>\n",
       "      <td>29.626667</td>\n",
       "      <td>35.707101</td>\n",
       "      <td>42.943623</td>\n",
       "    </tr>\n",
       "    <tr>\n",
       "      <th>std</th>\n",
       "      <td>4.753143</td>\n",
       "      <td>1.356801</td>\n",
       "      <td>2.720522</td>\n",
       "      <td>1.822618</td>\n",
       "    </tr>\n",
       "    <tr>\n",
       "      <th>min</th>\n",
       "      <td>83.000000</td>\n",
       "      <td>27.750000</td>\n",
       "      <td>30.520000</td>\n",
       "      <td>40.060001</td>\n",
       "    </tr>\n",
       "    <tr>\n",
       "      <th>25%</th>\n",
       "      <td>86.889999</td>\n",
       "      <td>28.650000</td>\n",
       "      <td>33.259998</td>\n",
       "      <td>41.540001</td>\n",
       "    </tr>\n",
       "    <tr>\n",
       "      <th>50%</th>\n",
       "      <td>91.199997</td>\n",
       "      <td>29.170000</td>\n",
       "      <td>36.020000</td>\n",
       "      <td>42.470001</td>\n",
       "    </tr>\n",
       "    <tr>\n",
       "      <th>75%</th>\n",
       "      <td>94.559998</td>\n",
       "      <td>30.930000</td>\n",
       "      <td>38.419998</td>\n",
       "      <td>43.740002</td>\n",
       "    </tr>\n",
       "    <tr>\n",
       "      <th>max</th>\n",
       "      <td>102.160004</td>\n",
       "      <td>32.650002</td>\n",
       "      <td>40.230000</td>\n",
       "      <td>47.130001</td>\n",
       "    </tr>\n",
       "  </tbody>\n",
       "</table>\n",
       "</div>"
      ],
      "text/plain": [
       "             BABA        BAC        USB        WFC\n",
       "count   69.000000  69.000000  69.000000  69.000000\n",
       "mean    90.956811  29.626667  35.707101  42.943623\n",
       "std      4.753143   1.356801   2.720522   1.822618\n",
       "min     83.000000  27.750000  30.520000  40.060001\n",
       "25%     86.889999  28.650000  33.259998  41.540001\n",
       "50%     91.199997  29.170000  36.020000  42.470001\n",
       "75%     94.559998  30.930000  38.419998  43.740002\n",
       "max    102.160004  32.650002  40.230000  47.130001"
      ]
     },
     "execution_count": 5,
     "metadata": {},
     "output_type": "execute_result"
    }
   ],
   "source": [
    "Pf.describe()"
   ]
  },
  {
   "cell_type": "code",
   "execution_count": 6,
   "id": "df9735e3",
   "metadata": {},
   "outputs": [
    {
     "data": {
      "text/plain": [
       "<Axes: xlabel='Date'>"
      ]
     },
     "execution_count": 6,
     "metadata": {},
     "output_type": "execute_result"
    },
    {
     "data": {
      "image/png": "[encoded data removed]",
      "text/plain": [
       "<Figure size 1500x800 with 1 Axes>"
      ]
     },
     "metadata": {},
     "output_type": "display_data"
    }
   ],
   "source": [
    "Pf.plot(figsize=(15,8))"
   ]
  },
  {
   "cell_type": "code",
   "execution_count": 7,
   "id": "ee433458",
   "metadata": {},
   "outputs": [
    {
     "data": {
      "text/html": [
       "<div>\n",
       "<style scoped>\n",
       "    .dataframe tbody tr th:only-of-type {\n",
       "        vertical-align: middle;\n",
       "    }\n",
       "\n",
       "    .dataframe tbody tr th {\n",
       "        vertical-align: top;\n",
       "    }\n",
       "\n",
       "    .dataframe thead th {\n",
       "        text-align: right;\n",
       "    }\n",
       "</style>\n",
       "<table border=\"1\" class=\"dataframe\">\n",
       "  <thead>\n",
       "    <tr style=\"text-align: right;\">\n",
       "      <th></th>\n",
       "      <th>BABA</th>\n",
       "      <th>BAC</th>\n",
       "      <th>USB</th>\n",
       "      <th>WFC</th>\n",
       "    </tr>\n",
       "    <tr>\n",
       "      <th>Date</th>\n",
       "      <th></th>\n",
       "      <th></th>\n",
       "      <th></th>\n",
       "      <th></th>\n",
       "    </tr>\n",
       "  </thead>\n",
       "  <tbody>\n",
       "    <tr>\n",
       "      <th>2023-06-01</th>\n",
       "      <td>NaN</td>\n",
       "      <td>NaN</td>\n",
       "      <td>NaN</td>\n",
       "      <td>NaN</td>\n",
       "    </tr>\n",
       "    <tr>\n",
       "      <th>2023-06-02</th>\n",
       "      <td>0.015185</td>\n",
       "      <td>0.032929</td>\n",
       "      <td>0.039195</td>\n",
       "      <td>0.029030</td>\n",
       "    </tr>\n",
       "    <tr>\n",
       "      <th>2023-06-05</th>\n",
       "      <td>0.001542</td>\n",
       "      <td>-0.005939</td>\n",
       "      <td>-0.016519</td>\n",
       "      <td>-0.019342</td>\n",
       "    </tr>\n",
       "    <tr>\n",
       "      <th>2023-06-06</th>\n",
       "      <td>0.026886</td>\n",
       "      <td>0.023889</td>\n",
       "      <td>0.044173</td>\n",
       "      <td>0.019827</td>\n",
       "    </tr>\n",
       "    <tr>\n",
       "      <th>2023-06-07</th>\n",
       "      <td>-0.016514</td>\n",
       "      <td>0.008516</td>\n",
       "      <td>0.019123</td>\n",
       "      <td>0.019441</td>\n",
       "    </tr>\n",
       "    <tr>\n",
       "      <th>...</th>\n",
       "      <td>...</td>\n",
       "      <td>...</td>\n",
       "      <td>...</td>\n",
       "      <td>...</td>\n",
       "    </tr>\n",
       "    <tr>\n",
       "      <th>2023-09-01</th>\n",
       "      <td>0.022459</td>\n",
       "      <td>0.010755</td>\n",
       "      <td>0.014674</td>\n",
       "      <td>0.008681</td>\n",
       "    </tr>\n",
       "    <tr>\n",
       "      <th>2023-09-05</th>\n",
       "      <td>-0.003796</td>\n",
       "      <td>-0.011452</td>\n",
       "      <td>-0.014948</td>\n",
       "      <td>-0.002645</td>\n",
       "    </tr>\n",
       "    <tr>\n",
       "      <th>2023-09-06</th>\n",
       "      <td>-0.002115</td>\n",
       "      <td>-0.009116</td>\n",
       "      <td>-0.011013</td>\n",
       "      <td>-0.012597</td>\n",
       "    </tr>\n",
       "    <tr>\n",
       "      <th>2023-09-07</th>\n",
       "      <td>-0.048594</td>\n",
       "      <td>-0.009200</td>\n",
       "      <td>-0.013659</td>\n",
       "      <td>-0.014488</td>\n",
       "    </tr>\n",
       "    <tr>\n",
       "      <th>2023-09-08</th>\n",
       "      <td>0.000889</td>\n",
       "      <td>0.008143</td>\n",
       "      <td>0.013382</td>\n",
       "      <td>0.014000</td>\n",
       "    </tr>\n",
       "  </tbody>\n",
       "</table>\n",
       "<p>69 rows × 4 columns</p>\n",
       "</div>"
      ],
      "text/plain": [
       "                BABA       BAC       USB       WFC\n",
       "Date                                              \n",
       "2023-06-01       NaN       NaN       NaN       NaN\n",
       "2023-06-02  0.015185  0.032929  0.039195  0.029030\n",
       "2023-06-05  0.001542 -0.005939 -0.016519 -0.019342\n",
       "2023-06-06  0.026886  0.023889  0.044173  0.019827\n",
       "2023-06-07 -0.016514  0.008516  0.019123  0.019441\n",
       "...              ...       ...       ...       ...\n",
       "2023-09-01  0.022459  0.010755  0.014674  0.008681\n",
       "2023-09-05 -0.003796 -0.011452 -0.014948 -0.002645\n",
       "2023-09-06 -0.002115 -0.009116 -0.011013 -0.012597\n",
       "2023-09-07 -0.048594 -0.009200 -0.013659 -0.014488\n",
       "2023-09-08  0.000889  0.008143  0.013382  0.014000\n",
       "\n",
       "[69 rows x 4 columns]"
      ]
     },
     "execution_count": 7,
     "metadata": {},
     "output_type": "execute_result"
    }
   ],
   "source": [
    "Returns = np.log(Pf/Pf.shift())\n",
    "Returns"
   ]
  },
  {
   "cell_type": "code",
   "execution_count": 8,
   "id": "26569e43",
   "metadata": {},
   "outputs": [
    {
     "data": {
      "text/html": [
       "<div>\n",
       "<style scoped>\n",
       "    .dataframe tbody tr th:only-of-type {\n",
       "        vertical-align: middle;\n",
       "    }\n",
       "\n",
       "    .dataframe tbody tr th {\n",
       "        vertical-align: top;\n",
       "    }\n",
       "\n",
       "    .dataframe thead th {\n",
       "        text-align: right;\n",
       "    }\n",
       "</style>\n",
       "<table border=\"1\" class=\"dataframe\">\n",
       "  <thead>\n",
       "    <tr style=\"text-align: right;\">\n",
       "      <th></th>\n",
       "      <th>BABA</th>\n",
       "      <th>BAC</th>\n",
       "      <th>USB</th>\n",
       "      <th>WFC</th>\n",
       "    </tr>\n",
       "  </thead>\n",
       "  <tbody>\n",
       "    <tr>\n",
       "      <th>Annual Mean</th>\n",
       "      <td>0.30212</td>\n",
       "      <td>0.076576</td>\n",
       "      <td>0.623284</td>\n",
       "      <td>0.085953</td>\n",
       "    </tr>\n",
       "  </tbody>\n",
       "</table>\n",
       "</div>"
      ],
      "text/plain": [
       "                BABA       BAC       USB       WFC\n",
       "Annual Mean  0.30212  0.076576  0.623284  0.085953"
      ]
     },
     "execution_count": 8,
     "metadata": {},
     "output_type": "execute_result"
    }
   ],
   "source": [
    "Annu_mean = (Returns.mean()*252).to_frame().T\n",
    "Annu_mean.index=[\"Annual Mean\"]\n",
    "Annu_mean"
   ]
  },
  {
   "cell_type": "code",
   "execution_count": 9,
   "id": "6c57cdb3",
   "metadata": {},
   "outputs": [
    {
     "data": {
      "text/html": [
       "<div>\n",
       "<style scoped>\n",
       "    .dataframe tbody tr th:only-of-type {\n",
       "        vertical-align: middle;\n",
       "    }\n",
       "\n",
       "    .dataframe tbody tr th {\n",
       "        vertical-align: top;\n",
       "    }\n",
       "\n",
       "    .dataframe thead th {\n",
       "        text-align: right;\n",
       "    }\n",
       "</style>\n",
       "<table border=\"1\" class=\"dataframe\">\n",
       "  <thead>\n",
       "    <tr style=\"text-align: right;\">\n",
       "      <th></th>\n",
       "      <th>BABA</th>\n",
       "      <th>BAC</th>\n",
       "      <th>USB</th>\n",
       "      <th>WFC</th>\n",
       "    </tr>\n",
       "  </thead>\n",
       "  <tbody>\n",
       "    <tr>\n",
       "      <th>Annual Std</th>\n",
       "      <td>0.375268</td>\n",
       "      <td>0.229302</td>\n",
       "      <td>0.306081</td>\n",
       "      <td>0.219998</td>\n",
       "    </tr>\n",
       "  </tbody>\n",
       "</table>\n",
       "</div>"
      ],
      "text/plain": [
       "                BABA       BAC       USB       WFC\n",
       "Annual Std  0.375268  0.229302  0.306081  0.219998"
      ]
     },
     "execution_count": 9,
     "metadata": {},
     "output_type": "execute_result"
    }
   ],
   "source": [
    "Annu_std = (Returns.std()*np.sqrt(252)).to_frame().T\n",
    "Annu_std.index=[\"Annual Std\"]\n",
    "Annu_std"
   ]
  },
  {
   "cell_type": "code",
   "execution_count": 10,
   "id": "06a6f464",
   "metadata": {},
   "outputs": [
    {
     "data": {
      "text/html": [
       "<div>\n",
       "<style scoped>\n",
       "    .dataframe tbody tr th:only-of-type {\n",
       "        vertical-align: middle;\n",
       "    }\n",
       "\n",
       "    .dataframe tbody tr th {\n",
       "        vertical-align: top;\n",
       "    }\n",
       "\n",
       "    .dataframe thead th {\n",
       "        text-align: right;\n",
       "    }\n",
       "</style>\n",
       "<table border=\"1\" class=\"dataframe\">\n",
       "  <thead>\n",
       "    <tr style=\"text-align: right;\">\n",
       "      <th></th>\n",
       "      <th>BABA</th>\n",
       "      <th>BAC</th>\n",
       "      <th>USB</th>\n",
       "      <th>WFC</th>\n",
       "    </tr>\n",
       "  </thead>\n",
       "  <tbody>\n",
       "    <tr>\n",
       "      <th>BABA</th>\n",
       "      <td>1.000000</td>\n",
       "      <td>0.398699</td>\n",
       "      <td>0.415092</td>\n",
       "      <td>0.316380</td>\n",
       "    </tr>\n",
       "    <tr>\n",
       "      <th>BAC</th>\n",
       "      <td>0.398699</td>\n",
       "      <td>1.000000</td>\n",
       "      <td>0.791890</td>\n",
       "      <td>0.756053</td>\n",
       "    </tr>\n",
       "    <tr>\n",
       "      <th>USB</th>\n",
       "      <td>0.415092</td>\n",
       "      <td>0.791890</td>\n",
       "      <td>1.000000</td>\n",
       "      <td>0.717530</td>\n",
       "    </tr>\n",
       "    <tr>\n",
       "      <th>WFC</th>\n",
       "      <td>0.316380</td>\n",
       "      <td>0.756053</td>\n",
       "      <td>0.717530</td>\n",
       "      <td>1.000000</td>\n",
       "    </tr>\n",
       "  </tbody>\n",
       "</table>\n",
       "</div>"
      ],
      "text/plain": [
       "          BABA       BAC       USB       WFC\n",
       "BABA  1.000000  0.398699  0.415092  0.316380\n",
       "BAC   0.398699  1.000000  0.791890  0.756053\n",
       "USB   0.415092  0.791890  1.000000  0.717530\n",
       "WFC   0.316380  0.756053  0.717530  1.000000"
      ]
     },
     "execution_count": 10,
     "metadata": {},
     "output_type": "execute_result"
    }
   ],
   "source": [
    "Returns.corr()"
   ]
  },
  {
   "cell_type": "code",
   "execution_count": 11,
   "id": "452a964f",
   "metadata": {},
   "outputs": [],
   "source": [
    "import seaborn as sns"
   ]
  },
  {
   "cell_type": "code",
   "execution_count": 12,
   "id": "3fc78a7a",
   "metadata": {},
   "outputs": [
    {
     "data": {
      "image/png": "[encoded data removed]",
      "text/plain": [
       "<Figure size 1500x800 with 2 Axes>"
      ]
     },
     "metadata": {},
     "output_type": "display_data"
    }
   ],
   "source": [
    "plt.figure(figsize=(15,8))\n",
    "sns.set(font_scale=1.4)\n",
    "sns.heatmap(Returns.corr(), cmap= \"RdYlBu_r\", annot = True, annot_kws={\"size\":15}, vmin=-1, vmax=1)\n",
    "plt.show()"
   ]
  },
  {
   "cell_type": "code",
   "execution_count": 13,
   "id": "cd3a8836",
   "metadata": {},
   "outputs": [
    {
     "data": {
      "text/html": [
       "<div>\n",
       "<style scoped>\n",
       "    .dataframe tbody tr th:only-of-type {\n",
       "        vertical-align: middle;\n",
       "    }\n",
       "\n",
       "    .dataframe tbody tr th {\n",
       "        vertical-align: top;\n",
       "    }\n",
       "\n",
       "    .dataframe thead th {\n",
       "        text-align: right;\n",
       "    }\n",
       "</style>\n",
       "<table border=\"1\" class=\"dataframe\">\n",
       "  <thead>\n",
       "    <tr style=\"text-align: right;\">\n",
       "      <th></th>\n",
       "      <th>BABA</th>\n",
       "      <th>BAC</th>\n",
       "      <th>USB</th>\n",
       "      <th>WFC</th>\n",
       "    </tr>\n",
       "  </thead>\n",
       "  <tbody>\n",
       "    <tr>\n",
       "      <th>0</th>\n",
       "      <td>7.050003</td>\n",
       "      <td>0.58</td>\n",
       "      <td>5.59</td>\n",
       "      <td>0.939999</td>\n",
       "    </tr>\n",
       "  </tbody>\n",
       "</table>\n",
       "</div>"
      ],
      "text/plain": [
       "       BABA   BAC   USB       WFC\n",
       "0  7.050003  0.58  5.59  0.939999"
      ]
     },
     "execution_count": 13,
     "metadata": {},
     "output_type": "execute_result"
    }
   ],
   "source": [
    "Roi = Pf.iloc[-1]-Pf.iloc[0]\n",
    "Roi.to_frame().T"
   ]
  },
  {
   "cell_type": "code",
   "execution_count": null,
   "id": "abfaee9d",
   "metadata": {},
   "outputs": [],
   "source": []
  }
 ],
 "metadata": {
  "kernelspec": {
   "display_name": "Python 3 (ipykernel)",
   "language": "python",
   "name": "python3"
  },
  "language_info": {
   "codemirror_mode": {
    "name": "ipython",
    "version": 3
   },
   "file_extension": ".py",
   "mimetype": "text/x-python",
   "name": "python",
   "nbconvert_exporter": "python",
   "pygments_lexer": "ipython3",
   "version": "3.11.4"
  }
 },
 "nbformat": 4,
 "nbformat_minor": 5
}
