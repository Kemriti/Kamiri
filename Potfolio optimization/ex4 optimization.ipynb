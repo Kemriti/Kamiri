{
 "cells": [
  {
   "cell_type": "code",
   "execution_count": 114,
   "id": "f3bf6242",
   "metadata": {},
   "outputs": [],
   "source": [
    "import pandas as pd\n",
    "import numpy as np\n",
    "from sklearn.linear_model import LinearRegression\n"
   ]
  },
  {
   "cell_type": "code",
   "execution_count": 24,
   "id": "5df6047b",
   "metadata": {},
   "outputs": [],
   "source": [
    "df = pd.read_excel(\"dataPerformance.xlsx\")"
   ]
  },
  {
   "cell_type": "code",
   "execution_count": 25,
   "id": "5aefa499",
   "metadata": {},
   "outputs": [
    {
     "data": {
      "text/html": [
       "<div>\n",
       "<style scoped>\n",
       "    .dataframe tbody tr th:only-of-type {\n",
       "        vertical-align: middle;\n",
       "    }\n",
       "\n",
       "    .dataframe tbody tr th {\n",
       "        vertical-align: top;\n",
       "    }\n",
       "\n",
       "    .dataframe thead th {\n",
       "        text-align: right;\n",
       "    }\n",
       "</style>\n",
       "<table border=\"1\" class=\"dataframe\">\n",
       "  <thead>\n",
       "    <tr style=\"text-align: right;\">\n",
       "      <th></th>\n",
       "      <th>Unnamed: 0</th>\n",
       "      <th>Portefeuille</th>\n",
       "      <th>Benchmark</th>\n",
       "    </tr>\n",
       "  </thead>\n",
       "  <tbody>\n",
       "    <tr>\n",
       "      <th>0</th>\n",
       "      <td>Decembre</td>\n",
       "      <td>100.00</td>\n",
       "      <td>100.00</td>\n",
       "    </tr>\n",
       "    <tr>\n",
       "      <th>1</th>\n",
       "      <td>Janvier</td>\n",
       "      <td>101.00</td>\n",
       "      <td>100.70</td>\n",
       "    </tr>\n",
       "    <tr>\n",
       "      <th>2</th>\n",
       "      <td>Fevrier</td>\n",
       "      <td>94.99</td>\n",
       "      <td>94.56</td>\n",
       "    </tr>\n",
       "    <tr>\n",
       "      <th>3</th>\n",
       "      <td>Mars</td>\n",
       "      <td>95.21</td>\n",
       "      <td>95.60</td>\n",
       "    </tr>\n",
       "    <tr>\n",
       "      <th>4</th>\n",
       "      <td>Avril</td>\n",
       "      <td>97.07</td>\n",
       "      <td>97.97</td>\n",
       "    </tr>\n",
       "    <tr>\n",
       "      <th>5</th>\n",
       "      <td>Mai</td>\n",
       "      <td>98.55</td>\n",
       "      <td>99.76</td>\n",
       "    </tr>\n",
       "    <tr>\n",
       "      <th>6</th>\n",
       "      <td>Juin</td>\n",
       "      <td>98.16</td>\n",
       "      <td>98.80</td>\n",
       "    </tr>\n",
       "    <tr>\n",
       "      <th>7</th>\n",
       "      <td>Juillet</td>\n",
       "      <td>99.14</td>\n",
       "      <td>99.59</td>\n",
       "    </tr>\n",
       "    <tr>\n",
       "      <th>8</th>\n",
       "      <td>Août</td>\n",
       "      <td>100.50</td>\n",
       "      <td>100.80</td>\n",
       "    </tr>\n",
       "    <tr>\n",
       "      <th>9</th>\n",
       "      <td>Septembre</td>\n",
       "      <td>102.23</td>\n",
       "      <td>102.34</td>\n",
       "    </tr>\n",
       "    <tr>\n",
       "      <th>10</th>\n",
       "      <td>Octobre</td>\n",
       "      <td>99.85</td>\n",
       "      <td>99.52</td>\n",
       "    </tr>\n",
       "    <tr>\n",
       "      <th>11</th>\n",
       "      <td>Novembre</td>\n",
       "      <td>104.62</td>\n",
       "      <td>103.39</td>\n",
       "    </tr>\n",
       "    <tr>\n",
       "      <th>12</th>\n",
       "      <td>Décembre</td>\n",
       "      <td>112.04</td>\n",
       "      <td>110.68</td>\n",
       "    </tr>\n",
       "  </tbody>\n",
       "</table>\n",
       "</div>"
      ],
      "text/plain": [
       "   Unnamed: 0  Portefeuille  Benchmark\n",
       "0   Decembre         100.00     100.00\n",
       "1     Janvier        101.00     100.70\n",
       "2     Fevrier         94.99      94.56\n",
       "3        Mars         95.21      95.60\n",
       "4       Avril         97.07      97.97\n",
       "5         Mai         98.55      99.76\n",
       "6        Juin         98.16      98.80\n",
       "7     Juillet         99.14      99.59\n",
       "8        Août        100.50     100.80\n",
       "9   Septembre        102.23     102.34\n",
       "10    Octobre         99.85      99.52\n",
       "11   Novembre        104.62     103.39\n",
       "12   Décembre        112.04     110.68"
      ]
     },
     "execution_count": 25,
     "metadata": {},
     "output_type": "execute_result"
    }
   ],
   "source": [
    "df"
   ]
  },
  {
   "cell_type": "code",
   "execution_count": 26,
   "id": "8f9debff",
   "metadata": {},
   "outputs": [],
   "source": [
    "df2=df.filter([\"Portefeuille\",\"Benchmark\"])"
   ]
  },
  {
   "cell_type": "code",
   "execution_count": 27,
   "id": "c0e07250",
   "metadata": {},
   "outputs": [],
   "source": [
    "Price = df2.to_numpy()"
   ]
  },
  {
   "cell_type": "code",
   "execution_count": 28,
   "id": "f15d4f17",
   "metadata": {},
   "outputs": [],
   "source": [
    "Returns =df2.pct_change().to_numpy()"
   ]
  },
  {
   "cell_type": "code",
   "execution_count": 29,
   "id": "33487ad0",
   "metadata": {},
   "outputs": [],
   "source": [
    "Returns=np.delete(Returns,(0),axis=0)"
   ]
  },
  {
   "cell_type": "code",
   "execution_count": 32,
   "id": "1f40d112",
   "metadata": {},
   "outputs": [],
   "source": [
    "Returns = pd.DataFrame(Returns)"
   ]
  },
  {
   "cell_type": "code",
   "execution_count": 33,
   "id": "857c866f",
   "metadata": {
    "scrolled": true
   },
   "outputs": [
    {
     "data": {
      "text/html": [
       "<div>\n",
       "<style scoped>\n",
       "    .dataframe tbody tr th:only-of-type {\n",
       "        vertical-align: middle;\n",
       "    }\n",
       "\n",
       "    .dataframe tbody tr th {\n",
       "        vertical-align: top;\n",
       "    }\n",
       "\n",
       "    .dataframe thead th {\n",
       "        text-align: right;\n",
       "    }\n",
       "</style>\n",
       "<table border=\"1\" class=\"dataframe\">\n",
       "  <thead>\n",
       "    <tr style=\"text-align: right;\">\n",
       "      <th></th>\n",
       "      <th>0</th>\n",
       "      <th>1</th>\n",
       "    </tr>\n",
       "  </thead>\n",
       "  <tbody>\n",
       "    <tr>\n",
       "      <th>0</th>\n",
       "      <td>0.010000</td>\n",
       "      <td>0.007000</td>\n",
       "    </tr>\n",
       "    <tr>\n",
       "      <th>1</th>\n",
       "      <td>-0.059505</td>\n",
       "      <td>-0.060973</td>\n",
       "    </tr>\n",
       "    <tr>\n",
       "      <th>2</th>\n",
       "      <td>0.002316</td>\n",
       "      <td>0.010998</td>\n",
       "    </tr>\n",
       "    <tr>\n",
       "      <th>3</th>\n",
       "      <td>0.019536</td>\n",
       "      <td>0.024791</td>\n",
       "    </tr>\n",
       "    <tr>\n",
       "      <th>4</th>\n",
       "      <td>0.015247</td>\n",
       "      <td>0.018271</td>\n",
       "    </tr>\n",
       "    <tr>\n",
       "      <th>5</th>\n",
       "      <td>-0.003957</td>\n",
       "      <td>-0.009623</td>\n",
       "    </tr>\n",
       "    <tr>\n",
       "      <th>6</th>\n",
       "      <td>0.009984</td>\n",
       "      <td>0.007996</td>\n",
       "    </tr>\n",
       "    <tr>\n",
       "      <th>7</th>\n",
       "      <td>0.013718</td>\n",
       "      <td>0.012150</td>\n",
       "    </tr>\n",
       "    <tr>\n",
       "      <th>8</th>\n",
       "      <td>0.017214</td>\n",
       "      <td>0.015278</td>\n",
       "    </tr>\n",
       "    <tr>\n",
       "      <th>9</th>\n",
       "      <td>-0.023281</td>\n",
       "      <td>-0.027555</td>\n",
       "    </tr>\n",
       "    <tr>\n",
       "      <th>10</th>\n",
       "      <td>0.047772</td>\n",
       "      <td>0.038887</td>\n",
       "    </tr>\n",
       "    <tr>\n",
       "      <th>11</th>\n",
       "      <td>0.070923</td>\n",
       "      <td>0.070510</td>\n",
       "    </tr>\n",
       "  </tbody>\n",
       "</table>\n",
       "</div>"
      ],
      "text/plain": [
       "           0         1\n",
       "0   0.010000  0.007000\n",
       "1  -0.059505 -0.060973\n",
       "2   0.002316  0.010998\n",
       "3   0.019536  0.024791\n",
       "4   0.015247  0.018271\n",
       "5  -0.003957 -0.009623\n",
       "6   0.009984  0.007996\n",
       "7   0.013718  0.012150\n",
       "8   0.017214  0.015278\n",
       "9  -0.023281 -0.027555\n",
       "10  0.047772  0.038887\n",
       "11  0.070923  0.070510"
      ]
     },
     "execution_count": 33,
     "metadata": {},
     "output_type": "execute_result"
    }
   ],
   "source": [
    "Returns"
   ]
  },
  {
   "cell_type": "code",
   "execution_count": 36,
   "id": "771a48b1",
   "metadata": {},
   "outputs": [],
   "source": [
    "ColPort=0\n",
    "ColBench=1"
   ]
  },
  {
   "cell_type": "code",
   "execution_count": 77,
   "id": "ae84e6c9",
   "metadata": {},
   "outputs": [],
   "source": [
    "Rp = (Price[12,ColPort]-Price[0,ColPort])/Price[0,ColPort]\n",
    "Rb= (Price[12,ColBench]-Price[0,ColBench])/Price[0,ColBench]"
   ]
  },
  {
   "cell_type": "code",
   "execution_count": 39,
   "id": "c82d75d8",
   "metadata": {},
   "outputs": [
    {
     "data": {
      "text/plain": [
       "(0.12040000000000006, 0.10680000000000006)"
      ]
     },
     "execution_count": 39,
     "metadata": {},
     "output_type": "execute_result"
    }
   ],
   "source": [
    "Rp,Rb"
   ]
  },
  {
   "cell_type": "code",
   "execution_count": 79,
   "id": "504aeb2e",
   "metadata": {},
   "outputs": [],
   "source": [
    "SigmaRp = np.std(Returns[ColPort])\n",
    "vol_p = SigmaRp * np.sqrt(12)"
   ]
  },
  {
   "cell_type": "code",
   "execution_count": 71,
   "id": "153856ae",
   "metadata": {},
   "outputs": [
    {
     "data": {
      "text/plain": [
       "0.10730833628769247"
      ]
     },
     "execution_count": 71,
     "metadata": {},
     "output_type": "execute_result"
    }
   ],
   "source": []
  },
  {
   "cell_type": "code",
   "execution_count": 78,
   "id": "2668ffeb",
   "metadata": {},
   "outputs": [],
   "source": [
    "SigmaRb = np.std(Returns[ColBench])\n",
    "vol_b = SigmaRb * np.sqrt(12)"
   ]
  },
  {
   "cell_type": "code",
   "execution_count": 80,
   "id": "18460905",
   "metadata": {},
   "outputs": [],
   "source": [
    "RSharpe_P = Rp/vol_p"
   ]
  },
  {
   "cell_type": "code",
   "execution_count": 81,
   "id": "33f00a8a",
   "metadata": {},
   "outputs": [],
   "source": [
    "RSharpe_B = Rb/vol_b"
   ]
  },
  {
   "cell_type": "code",
   "execution_count": 82,
   "id": "b9cda335",
   "metadata": {},
   "outputs": [
    {
     "data": {
      "text/plain": [
       "(1.1220004350566855, 0.9894984511894168)"
      ]
     },
     "execution_count": 82,
     "metadata": {},
     "output_type": "execute_result"
    }
   ],
   "source": [
    "RSharpe_P,RSharpe_B"
   ]
  },
  {
   "cell_type": "code",
   "execution_count": null,
   "id": "acf4bb8f",
   "metadata": {},
   "outputs": [],
   "source": [
    "#2 Sortino"
   ]
  },
  {
   "cell_type": "code",
   "execution_count": 83,
   "id": "87497384",
   "metadata": {},
   "outputs": [],
   "source": [
    "returnsP=Returns[ColPort]"
   ]
  },
  {
   "cell_type": "code",
   "execution_count": 92,
   "id": "809b771b",
   "metadata": {},
   "outputs": [],
   "source": [
    "rTrimmed = Returns[ColPort].copy()"
   ]
  },
  {
   "cell_type": "code",
   "execution_count": 93,
   "id": "34e36780",
   "metadata": {},
   "outputs": [],
   "source": [
    "rTrimmed[rTrimmed>0.01]=0"
   ]
  },
  {
   "cell_type": "code",
   "execution_count": 94,
   "id": "84ea3fe2",
   "metadata": {},
   "outputs": [],
   "source": [
    "TDD=np.std(rTrimmed)"
   ]
  },
  {
   "cell_type": "code",
   "execution_count": 95,
   "id": "07916a39",
   "metadata": {},
   "outputs": [],
   "source": [
    "RatioSortino = (Rp-0.01)/(TDD*np.sqrt(12))"
   ]
  },
  {
   "cell_type": "code",
   "execution_count": 96,
   "id": "f4acef76",
   "metadata": {},
   "outputs": [
    {
     "data": {
      "text/plain": [
       "1.8048188185421283"
      ]
     },
     "execution_count": 96,
     "metadata": {},
     "output_type": "execute_result"
    }
   ],
   "source": [
    "RatioSortino"
   ]
  },
  {
   "cell_type": "code",
   "execution_count": null,
   "id": "ae57e16b",
   "metadata": {},
   "outputs": [],
   "source": [
    "#Ratio d'information"
   ]
  },
  {
   "cell_type": "code",
   "execution_count": 97,
   "id": "201b859a",
   "metadata": {},
   "outputs": [],
   "source": [
    "DiffReturn= Rp-Rb"
   ]
  },
  {
   "cell_type": "code",
   "execution_count": 98,
   "id": "ebc9de52",
   "metadata": {},
   "outputs": [],
   "source": [
    "RbMinusRb=Returns[ColPort]-Returns[ColBench]"
   ]
  },
  {
   "cell_type": "code",
   "execution_count": 99,
   "id": "3f3cd7f9",
   "metadata": {},
   "outputs": [],
   "source": [
    "Sigma = np.std(RbMinusRb)*np.sqrt(12)"
   ]
  },
  {
   "cell_type": "code",
   "execution_count": 101,
   "id": "c48b5e72",
   "metadata": {},
   "outputs": [
    {
     "data": {
      "text/plain": [
       "0.8593447101204448"
      ]
     },
     "execution_count": 101,
     "metadata": {},
     "output_type": "execute_result"
    }
   ],
   "source": [
    "RatioInformation=DiffReturn/Sigma\n",
    "RatioInformation"
   ]
  },
  {
   "cell_type": "code",
   "execution_count": 102,
   "id": "7fe02151",
   "metadata": {},
   "outputs": [],
   "source": [
    "#Ratio Calmar"
   ]
  },
  {
   "cell_type": "code",
   "execution_count": 112,
   "id": "e807e15b",
   "metadata": {},
   "outputs": [
    {
     "name": "stdout",
     "output_type": "stream",
     "text": [
      "Ratio Calmar: 2.023361064891846\n"
     ]
    }
   ],
   "source": [
    "import numpy as np\n",
    "\n",
    "# Supposons que vous avez un tableau Price et une variable Rp déjà définis\n",
    "\n",
    "# Initialisez MaxPrice à la première valeur de Price\n",
    "MaxPrice = Price[0, 0]\n",
    "\n",
    "# Initialisez MaxPerte à 0\n",
    "MaxPerte = 0\n",
    "\n",
    "for i in range(1, 12):\n",
    "    CurrentPrice = Price[i, 0]\n",
    "    \n",
    "    # Mettez à jour MaxPrice si le prix actuel est supérieur\n",
    "    if CurrentPrice > MaxPrice:\n",
    "        MaxPrice = CurrentPrice\n",
    "        \n",
    "    Perte = (CurrentPrice - MaxPrice) / MaxPrice\n",
    "    \n",
    "    # Mettez à jour MaxPerte si la perte actuelle est plus grande que MaxPerte\n",
    "    if MaxPerte > Perte:\n",
    "        MaxPerte = Perte\n",
    "\n",
    "# Prenez la valeur absolue de MaxPerte\n",
    "MaxPerte = np.abs(MaxPerte)\n",
    "\n",
    "# Calculez le Ratio Calmar\n",
    "RatioCalmar = Rp / MaxPerte\n",
    "\n",
    "# Affichez le résultat\n",
    "print(\"Ratio Calmar:\", RatioCalmar)\n"
   ]
  },
  {
   "cell_type": "code",
   "execution_count": null,
   "id": "aefcf00a",
   "metadata": {},
   "outputs": [],
   "source": [
    "#5 "
   ]
  },
  {
   "cell_type": "code",
   "execution_count": 117,
   "id": "fb4279d2",
   "metadata": {},
   "outputs": [
    {
     "ename": "ValueError",
     "evalue": "Found input variables with inconsistent numbers of samples: [12, 2]",
     "output_type": "error",
     "traceback": [
      "\u001b[1;31m---------------------------------------------------------------------------\u001b[0m",
      "\u001b[1;31mValueError\u001b[0m                                Traceback (most recent call last)",
      "Cell \u001b[1;32mIn[117], line 4\u001b[0m\n\u001b[0;32m      2\u001b[0m X\u001b[38;5;241m=\u001b[39mX\u001b[38;5;241m.\u001b[39mvalues\u001b[38;5;241m.\u001b[39mreshape(\u001b[38;5;241m-\u001b[39m\u001b[38;5;241m1\u001b[39m,\u001b[38;5;241m1\u001b[39m)\n\u001b[0;32m      3\u001b[0m y \u001b[38;5;241m=\u001b[39m Returns\u001b[38;5;241m.\u001b[39mvalues[ColPort]\n\u001b[1;32m----> 4\u001b[0m reg\u001b[38;5;241m=\u001b[39mLinearRegression(fit_intercept\u001b[38;5;241m=\u001b[39m\u001b[38;5;28;01mTrue\u001b[39;00m)\u001b[38;5;241m.\u001b[39mfit(X,y)\n",
      "File \u001b[1;32m~\\anaconda3\\Lib\\site-packages\\sklearn\\base.py:1151\u001b[0m, in \u001b[0;36m_fit_context.<locals>.decorator.<locals>.wrapper\u001b[1;34m(estimator, *args, **kwargs)\u001b[0m\n\u001b[0;32m   1144\u001b[0m     estimator\u001b[38;5;241m.\u001b[39m_validate_params()\n\u001b[0;32m   1146\u001b[0m \u001b[38;5;28;01mwith\u001b[39;00m config_context(\n\u001b[0;32m   1147\u001b[0m     skip_parameter_validation\u001b[38;5;241m=\u001b[39m(\n\u001b[0;32m   1148\u001b[0m         prefer_skip_nested_validation \u001b[38;5;129;01mor\u001b[39;00m global_skip_validation\n\u001b[0;32m   1149\u001b[0m     )\n\u001b[0;32m   1150\u001b[0m ):\n\u001b[1;32m-> 1151\u001b[0m     \u001b[38;5;28;01mreturn\u001b[39;00m fit_method(estimator, \u001b[38;5;241m*\u001b[39margs, \u001b[38;5;241m*\u001b[39m\u001b[38;5;241m*\u001b[39mkwargs)\n",
      "File \u001b[1;32m~\\anaconda3\\Lib\\site-packages\\sklearn\\linear_model\\_base.py:678\u001b[0m, in \u001b[0;36mLinearRegression.fit\u001b[1;34m(self, X, y, sample_weight)\u001b[0m\n\u001b[0;32m    674\u001b[0m n_jobs_ \u001b[38;5;241m=\u001b[39m \u001b[38;5;28mself\u001b[39m\u001b[38;5;241m.\u001b[39mn_jobs\n\u001b[0;32m    676\u001b[0m accept_sparse \u001b[38;5;241m=\u001b[39m \u001b[38;5;28;01mFalse\u001b[39;00m \u001b[38;5;28;01mif\u001b[39;00m \u001b[38;5;28mself\u001b[39m\u001b[38;5;241m.\u001b[39mpositive \u001b[38;5;28;01melse\u001b[39;00m [\u001b[38;5;124m\"\u001b[39m\u001b[38;5;124mcsr\u001b[39m\u001b[38;5;124m\"\u001b[39m, \u001b[38;5;124m\"\u001b[39m\u001b[38;5;124mcsc\u001b[39m\u001b[38;5;124m\"\u001b[39m, \u001b[38;5;124m\"\u001b[39m\u001b[38;5;124mcoo\u001b[39m\u001b[38;5;124m\"\u001b[39m]\n\u001b[1;32m--> 678\u001b[0m X, y \u001b[38;5;241m=\u001b[39m \u001b[38;5;28mself\u001b[39m\u001b[38;5;241m.\u001b[39m_validate_data(\n\u001b[0;32m    679\u001b[0m     X, y, accept_sparse\u001b[38;5;241m=\u001b[39maccept_sparse, y_numeric\u001b[38;5;241m=\u001b[39m\u001b[38;5;28;01mTrue\u001b[39;00m, multi_output\u001b[38;5;241m=\u001b[39m\u001b[38;5;28;01mTrue\u001b[39;00m\n\u001b[0;32m    680\u001b[0m )\n\u001b[0;32m    682\u001b[0m has_sw \u001b[38;5;241m=\u001b[39m sample_weight \u001b[38;5;129;01mis\u001b[39;00m \u001b[38;5;129;01mnot\u001b[39;00m \u001b[38;5;28;01mNone\u001b[39;00m\n\u001b[0;32m    683\u001b[0m \u001b[38;5;28;01mif\u001b[39;00m has_sw:\n",
      "File \u001b[1;32m~\\anaconda3\\Lib\\site-packages\\sklearn\\base.py:621\u001b[0m, in \u001b[0;36mBaseEstimator._validate_data\u001b[1;34m(self, X, y, reset, validate_separately, cast_to_ndarray, **check_params)\u001b[0m\n\u001b[0;32m    619\u001b[0m         y \u001b[38;5;241m=\u001b[39m check_array(y, input_name\u001b[38;5;241m=\u001b[39m\u001b[38;5;124m\"\u001b[39m\u001b[38;5;124my\u001b[39m\u001b[38;5;124m\"\u001b[39m, \u001b[38;5;241m*\u001b[39m\u001b[38;5;241m*\u001b[39mcheck_y_params)\n\u001b[0;32m    620\u001b[0m     \u001b[38;5;28;01melse\u001b[39;00m:\n\u001b[1;32m--> 621\u001b[0m         X, y \u001b[38;5;241m=\u001b[39m check_X_y(X, y, \u001b[38;5;241m*\u001b[39m\u001b[38;5;241m*\u001b[39mcheck_params)\n\u001b[0;32m    622\u001b[0m     out \u001b[38;5;241m=\u001b[39m X, y\n\u001b[0;32m    624\u001b[0m \u001b[38;5;28;01mif\u001b[39;00m \u001b[38;5;129;01mnot\u001b[39;00m no_val_X \u001b[38;5;129;01mand\u001b[39;00m check_params\u001b[38;5;241m.\u001b[39mget(\u001b[38;5;124m\"\u001b[39m\u001b[38;5;124mensure_2d\u001b[39m\u001b[38;5;124m\"\u001b[39m, \u001b[38;5;28;01mTrue\u001b[39;00m):\n",
      "File \u001b[1;32m~\\anaconda3\\Lib\\site-packages\\sklearn\\utils\\validation.py:1165\u001b[0m, in \u001b[0;36mcheck_X_y\u001b[1;34m(X, y, accept_sparse, accept_large_sparse, dtype, order, copy, force_all_finite, ensure_2d, allow_nd, multi_output, ensure_min_samples, ensure_min_features, y_numeric, estimator)\u001b[0m\n\u001b[0;32m   1147\u001b[0m X \u001b[38;5;241m=\u001b[39m check_array(\n\u001b[0;32m   1148\u001b[0m     X,\n\u001b[0;32m   1149\u001b[0m     accept_sparse\u001b[38;5;241m=\u001b[39maccept_sparse,\n\u001b[1;32m   (...)\u001b[0m\n\u001b[0;32m   1160\u001b[0m     input_name\u001b[38;5;241m=\u001b[39m\u001b[38;5;124m\"\u001b[39m\u001b[38;5;124mX\u001b[39m\u001b[38;5;124m\"\u001b[39m,\n\u001b[0;32m   1161\u001b[0m )\n\u001b[0;32m   1163\u001b[0m y \u001b[38;5;241m=\u001b[39m _check_y(y, multi_output\u001b[38;5;241m=\u001b[39mmulti_output, y_numeric\u001b[38;5;241m=\u001b[39my_numeric, estimator\u001b[38;5;241m=\u001b[39mestimator)\n\u001b[1;32m-> 1165\u001b[0m check_consistent_length(X, y)\n\u001b[0;32m   1167\u001b[0m \u001b[38;5;28;01mreturn\u001b[39;00m X, y\n",
      "File \u001b[1;32m~\\anaconda3\\Lib\\site-packages\\sklearn\\utils\\validation.py:409\u001b[0m, in \u001b[0;36mcheck_consistent_length\u001b[1;34m(*arrays)\u001b[0m\n\u001b[0;32m    407\u001b[0m uniques \u001b[38;5;241m=\u001b[39m np\u001b[38;5;241m.\u001b[39munique(lengths)\n\u001b[0;32m    408\u001b[0m \u001b[38;5;28;01mif\u001b[39;00m \u001b[38;5;28mlen\u001b[39m(uniques) \u001b[38;5;241m>\u001b[39m \u001b[38;5;241m1\u001b[39m:\n\u001b[1;32m--> 409\u001b[0m     \u001b[38;5;28;01mraise\u001b[39;00m \u001b[38;5;167;01mValueError\u001b[39;00m(\n\u001b[0;32m    410\u001b[0m         \u001b[38;5;124m\"\u001b[39m\u001b[38;5;124mFound input variables with inconsistent numbers of samples: \u001b[39m\u001b[38;5;132;01m%r\u001b[39;00m\u001b[38;5;124m\"\u001b[39m\n\u001b[0;32m    411\u001b[0m         \u001b[38;5;241m%\u001b[39m [\u001b[38;5;28mint\u001b[39m(l) \u001b[38;5;28;01mfor\u001b[39;00m l \u001b[38;5;129;01min\u001b[39;00m lengths]\n\u001b[0;32m    412\u001b[0m     )\n",
      "\u001b[1;31mValueError\u001b[0m: Found input variables with inconsistent numbers of samples: [12, 2]"
     ]
    }
   ],
   "source": [
    "X=Returns[ColBench]\n",
    "X=X.values.reshape(-1,1)\n",
    "y = Returns.values[ColPort]\n",
    "reg=LinearRegression(fit_intercept=True).fit(X,y)"
   ]
  },
  {
   "cell_type": "code",
   "execution_count": 122,
   "id": "13edab3b",
   "metadata": {},
   "outputs": [
    {
     "name": "stdout",
     "output_type": "stream",
     "text": [
      "reg.coef: [0.98347513]\n",
      "reg.intercept: 0.0011681439022920796\n",
      "reg.Intercept annuel: 0.014017726827504955\n"
     ]
    }
   ],
   "source": [
    "import pandas as pd\n",
    "import numpy as np\n",
    "from sklearn.linear_model import LinearRegression\n",
    "\n",
    "# Assurez-vous que Returns, ColBench et ColPort sont correctement définis\n",
    "\n",
    "# Sélectionnez les données de la colonne ColBench comme variable indépendante X\n",
    "X = Returns[ColBench].values.reshape(-1, 1)\n",
    "\n",
    "# Sélectionnez les données de la colonne ColPort comme variable dépendante y\n",
    "y = Returns[ColPort].values\n",
    "\n",
    "# Créez un modèle de régression linéaire\n",
    "reg = LinearRegression(fit_intercept=True)\n",
    "\n",
    "# Entraînez le modèle sur les données\n",
    "reg.fit(X, y)\n",
    "\n",
    "# Affichez les coefficients et l'intercept\n",
    "coefficients = reg.coef_\n",
    "intercept = reg.intercept_\n",
    "\n",
    "# Calculez l'intercept annuel (si nécessaire, s'il s'agit d'une unité de temps différente)\n",
    "intercept_annuel = intercept * 12\n",
    "\n",
    "print(\"reg.coef:\", coefficients)\n",
    "print(\"reg.intercept:\", intercept)\n",
    "print(\"reg.Intercept annuel:\", intercept_annuel)\n",
    "\n"
   ]
  },
  {
   "cell_type": "code",
   "execution_count": 119,
   "id": "79dea38a",
   "metadata": {},
   "outputs": [
    {
     "ename": "AttributeError",
     "evalue": "'LinearRegression' object has no attribute 'coef'",
     "output_type": "error",
     "traceback": [
      "\u001b[1;31m---------------------------------------------------------------------------\u001b[0m",
      "\u001b[1;31mAttributeError\u001b[0m                            Traceback (most recent call last)",
      "Cell \u001b[1;32mIn[119], line 1\u001b[0m\n\u001b[1;32m----> 1\u001b[0m reg\u001b[38;5;241m.\u001b[39mcoef\n",
      "\u001b[1;31mAttributeError\u001b[0m: 'LinearRegression' object has no attribute 'coef'"
     ]
    }
   ],
   "source": []
  },
  {
   "cell_type": "code",
   "execution_count": 35,
   "id": "b20602f6",
   "metadata": {},
   "outputs": [
    {
     "data": {
      "text/html": [
       "<div>\n",
       "<style scoped>\n",
       "    .dataframe tbody tr th:only-of-type {\n",
       "        vertical-align: middle;\n",
       "    }\n",
       "\n",
       "    .dataframe tbody tr th {\n",
       "        vertical-align: top;\n",
       "    }\n",
       "\n",
       "    .dataframe thead th {\n",
       "        text-align: right;\n",
       "    }\n",
       "</style>\n",
       "<table border=\"1\" class=\"dataframe\">\n",
       "  <thead>\n",
       "    <tr style=\"text-align: right;\">\n",
       "      <th></th>\n",
       "      <th>0</th>\n",
       "      <th>1</th>\n",
       "    </tr>\n",
       "  </thead>\n",
       "  <tbody>\n",
       "    <tr>\n",
       "      <th>count</th>\n",
       "      <td>12.000000</td>\n",
       "      <td>12.000000</td>\n",
       "    </tr>\n",
       "    <tr>\n",
       "      <th>mean</th>\n",
       "      <td>0.009997</td>\n",
       "      <td>0.008977</td>\n",
       "    </tr>\n",
       "    <tr>\n",
       "      <th>std</th>\n",
       "      <td>0.032355</td>\n",
       "      <td>0.032543</td>\n",
       "    </tr>\n",
       "    <tr>\n",
       "      <th>min</th>\n",
       "      <td>-0.059505</td>\n",
       "      <td>-0.060973</td>\n",
       "    </tr>\n",
       "    <tr>\n",
       "      <th>25%</th>\n",
       "      <td>0.000748</td>\n",
       "      <td>0.002844</td>\n",
       "    </tr>\n",
       "    <tr>\n",
       "      <th>50%</th>\n",
       "      <td>0.011859</td>\n",
       "      <td>0.011574</td>\n",
       "    </tr>\n",
       "    <tr>\n",
       "      <th>75%</th>\n",
       "      <td>0.017794</td>\n",
       "      <td>0.019901</td>\n",
       "    </tr>\n",
       "    <tr>\n",
       "      <th>max</th>\n",
       "      <td>0.070923</td>\n",
       "      <td>0.070510</td>\n",
       "    </tr>\n",
       "  </tbody>\n",
       "</table>\n",
       "</div>"
      ],
      "text/plain": [
       "               0          1\n",
       "count  12.000000  12.000000\n",
       "mean    0.009997   0.008977\n",
       "std     0.032355   0.032543\n",
       "min    -0.059505  -0.060973\n",
       "25%     0.000748   0.002844\n",
       "50%     0.011859   0.011574\n",
       "75%     0.017794   0.019901\n",
       "max     0.070923   0.070510"
      ]
     },
     "execution_count": 35,
     "metadata": {},
     "output_type": "execute_result"
    }
   ],
   "source": [
    "Returns.describe()"
   ]
  }
 ],
 "metadata": {
  "kernelspec": {
   "display_name": "Python 3 (ipykernel)",
   "language": "python",
   "name": "python3"
  },
  "language_info": {
   "codemirror_mode": {
    "name": "ipython",
    "version": 3
   },
   "file_extension": ".py",
   "mimetype": "text/x-python",
   "name": "python",
   "nbconvert_exporter": "python",
   "pygments_lexer": "ipython3",
   "version": "3.11.4"
  }
 },
 "nbformat": 4,
 "nbformat_minor": 5
}
